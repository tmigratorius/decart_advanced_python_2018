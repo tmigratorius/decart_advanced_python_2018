{
 "cells": [
  {
   "cell_type": "markdown",
   "metadata": {
    "internals": {
     "slide_helper": "subslide_end",
     "slide_type": "subslide"
    },
    "slide_helper": "slide_end",
    "slideshow": {
     "slide_type": "slide"
    }
   },
   "source": [
    "# Using Graphs to Work with Ontologies\n",
    "\n",
    "## What is an ontology?\n",
    "\n",
    ">a set of concepts and categories in a subject area or domain that shows their properties and the relations between them.\n",
    "\n",
    ">In computer science and information science, an ontology is a formal naming and definition of the types, properties, and interrelationships of the entities that really exist in a particular domain of discourse. Thus, it is basically a taxonomy. It does not draw on the 'old' philosophical discipline 'ontology' as it was established in antiquity.\n",
    "An ontology (in information science) compartmentalizes the variables needed for some set of computations and establishes the relationships between them.\n",
    ">\n",
    "The fields of artificial intelligence, the Semantic Web, systems engineering, software engineering, biomedical informatics, library science, enterprise bookmarking, and information architecture all create ontologies to limit complexity and organize information. The ontology can then be applied to problem solving. (Wikipedia [\"Ontology (information science) (accessed 11/21/2017)\"](https://goo.gl/W2PqYn))\n",
    "\n",
    "## An Example\n",
    "\n",
    "<img src=\"wilms_melanoma_carcinoid.png\" alt=\"cancer ontology\" width=\"400\">\n"
   ]
  },
  {
   "cell_type": "code",
   "execution_count": 2,
   "metadata": {
    "collapsed": true,
    "internals": {
     "slide_type": "subslide"
    },
    "slideshow": {
     "slide_type": "slide"
    }
   },
   "outputs": [],
   "source": [
    "%matplotlib inline"
   ]
  },
  {
   "cell_type": "code",
   "execution_count": 3,
   "metadata": {
    "collapsed": true,
    "internals": {
     "slide_helper": "subslide_end"
    },
    "slide_helper": "slide_end",
    "slideshow": {
     "slide_type": "skip"
    }
   },
   "outputs": [],
   "source": [
    "import os\n",
    "DATADIR = os.path.join(\"..\",\"Resources\")\n",
    "\n",
    "import networkx as nx\n",
    "from collections import defaultdict\n",
    "from IPython.display import Image\n",
    "import matplotlib.pyplot as plt\n",
    "import re\n",
    "import seaborn as sns"
   ]
  },
  {
   "cell_type": "code",
   "execution_count": 4,
   "metadata": {},
   "outputs": [
    {
     "data": {
      "text/plain": [
       "_sre.SRE_Pattern"
      ]
     },
     "execution_count": 4,
     "metadata": {},
     "output_type": "execute_result"
    }
   ],
   "source": [
    "r1 = re.compile(r\"\"\"pox\"\"\", re.I)\n",
    "type(r1)"
   ]
  },
  {
   "cell_type": "markdown",
   "metadata": {
    "internals": {
     "slide_helper": "subslide_end",
     "slide_type": "subslide"
    },
    "slide_helper": "subslide_end",
    "slideshow": {
     "slide_type": "subslide"
    }
   },
   "source": [
    "# Ontologies and Graphs\n",
    "\n",
    "* The most powerful way of specifying an ontology is with the [OWL](https://en.wikipedia.org/wiki/Web_Ontology_Language) language.\n",
    "* A simpler format is [OBO flat file format](https://owlcollab.github.io/oboformat/doc/GO.format.obo-1_4.html)\n",
    "\n",
    "### What does an OBO file look like?\n",
    "#### Key concepts\n",
    "* [Term] marks the beginning of a concept\n",
    "* Each concept has a unique identifier (e.g. DOID:0001816), name (e.g. angiosarcoma), and other features\n",
    "* **``is_a``**: this defines the hierarchical nature of the ontology. For example, an angiosarcoma **is a** sarcoma which **is a** cancer which **is a** disease.\n",
    "    * **``is_a``** will define edges\n",
    "\n",
    "~~~~~~~~~~~\n",
    "[Term]\n",
    "id: DOID:0001816\n",
    "name: angiosarcoma\n",
    "alt_id: DOID:267\n",
    "alt_id: DOID:4508\n",
    "def: \"A malignant vascular tumor that results_in rapidly proliferating, extensively infiltrating anaplastic cells derived_from blood vessels and derived_from the lining of irregular blood-filled spaces.\" [url:http\\://emedicine.medscape.com/article/276512-overview]\n",
    "synonym: \"Hemangioendothelioma, malignant (morphologic abnormality)\" EXACT [SNOMEDCT_2005_07_31:33176006]\n",
    "synonym: \"hemangiosarcoma\" EXACT []\n",
    "synonym: \"primary hemangiosarcoma\" EXACT [NCI2004_11_17:C9275]\n",
    "xref: MSH:D006394\n",
    "xref: NCI:C3088\n",
    "xref: SNOMEDCT_2010_1_31:33176006\n",
    "xref: SNOMEDCT_2010_1_31:39000009\n",
    "xref: SNOMEDCT_2010_1_31:403977003\n",
    "xref: UMLS_CUI:C0018923\n",
    "xref: UMLS_CUI:C0854893\n",
    "is_a: DOID:1115 ! sarcoma\n",
    "\n",
    "\n",
    "~~~~~~~~~~~~~~~~~~\n",
    "\n",
    "* Nodes have labels (unique identifiers)\n",
    "    * What would be the choice for a node label here?\n",
    "* Lots more information (e.g., \"xref\",\"synonym\")\n",
    "    * Put these into node attributes. Just like a graph can have attributes nodes and edges can have attributes, all stored in dictionaries.\n",
    "    \n",
    "#### Note: I translate \":\" to \"->\" becaues of some incompatibilities with the pygraphviz drawing package."
   ]
  },
  {
   "cell_type": "markdown",
   "metadata": {},
   "source": [
    "### An OBO Parser\n",
    "\n",
    "* Reads an OBO file into a NetworkX graph"
   ]
  },
  {
   "cell_type": "code",
   "execution_count": 21,
   "metadata": {
    "collapsed": true,
    "internals": {
     "slide_helper": "subslide_end",
     "slide_type": "subslide"
    },
    "slide_helper": "subslide_end",
    "slideshow": {
     "slide_type": "subslide"
    }
   },
   "outputs": [],
   "source": [
    "\"\"\"\n",
    "    \n",
    "based on \n",
    "\n",
    "http://techoverflow.net/blog/2013/11/18/a-geneontology-obo-v1.2-parser-in-python/\n",
    "\n",
    "__author__    = \"Uli Koehler\"\n",
    "__copyright__ = \"Copyright 2013 Uli Koehler\"\n",
    "__license__   = \"Apache v2.0\"\n",
    "\"\"\"\n",
    "\n",
    "def addOBONode(graph,items):\n",
    "    \"\"\"\n",
    "    In an object representing an OBO term, replace single-element lists with\n",
    "    their only member.\n",
    "    Returns the modified object as a dictionary.\n",
    "\n",
    "    \"\"\"\n",
    "    ret = dict(items) #Input is a defaultdict, might express unexpected behaviour\n",
    "    for key, value in ret.items():\n",
    "        #key = key.replace(\":\",\"->\")\n",
    "        if len(value) == 1:\n",
    "            ret[key] = value[0]\n",
    "    _is = ret.pop('id').replace(\":\",\"->\")\n",
    "\n",
    "    try:\n",
    "        _isa = ret.pop('is_a')\n",
    "        if isinstance(_isa,str):\n",
    "            _isa = [_isa]\n",
    "    except KeyError:\n",
    "        # this may be a root node\n",
    "        if not ret.get('is_obsolete'):\n",
    "            graph.graph[\"roots\"].append(_is)\n",
    "        _isa = []\n",
    "    \n",
    "    graph.add_node(_is,attr_dict=ret)\n",
    "    if _isa:\n",
    "        for isa in _isa:\n",
    "            isa, sep, b = isa.partition(\"!\")\n",
    "            isa = isa.strip()\n",
    "            \n",
    "            graph.add_edge(isa.replace(\":\",\"->\"),_is)\n",
    "    \n",
    "def parseOBO(filename):\n",
    "    \"\"\"\n",
    "    Parses an OBO file\n",
    "    \"\"\"\n",
    "    ontology = nx.DiGraph(roots=[])\n",
    "    with open(filename,\"rt\") as fin:\n",
    "        lines = fin.readlines()\n",
    "    inTerm = False\n",
    "    currentItems = defaultdict(list)\n",
    "    while lines:\n",
    "        \n",
    "        line = lines.pop(0)\n",
    "        line = line.strip()\n",
    "        if not line: \n",
    "            continue #Skip empty\n",
    "        if line == \"[Term]\":\n",
    "            if inTerm:  \n",
    "                addOBONode(ontology,currentItems)\n",
    "                currentItems = defaultdict(list)\n",
    "            else:\n",
    "                inTerm = True\n",
    "        elif line == \"[Typedef]\":\n",
    "            #Skip [Typedef sections]\n",
    "            currentItems = None\n",
    "        else: #Not [Term]\n",
    "            #Only process if we're inside a [Term] environment\n",
    "            if currentItems is None: \n",
    "                continue\n",
    "            key, sep, val = line.partition(\":\")\n",
    "            currentItems[key].append(val.strip())\n",
    "    #Add last term\n",
    "    if currentItems is not None:\n",
    "        addOBONode(ontology,currentItems) \n",
    "    return ontology"
   ]
  },
  {
   "cell_type": "markdown",
   "metadata": {},
   "source": [
    "## Read in the [Human Disease Ontology](http://do-wiki.nubic.northwestern.edu/do-wiki/index.php/Main_Page)"
   ]
  },
  {
   "cell_type": "code",
   "execution_count": 22,
   "metadata": {
    "internals": {
     "slide_helper": "subslide_end",
     "slide_type": "subslide"
    },
    "slide_helper": "subslide_end",
    "slideshow": {
     "slide_type": "subslide"
    }
   },
   "outputs": [
    {
     "name": "stdout",
     "output_type": "stream",
     "text": [
      "Found 9188 OBO terms\n"
     ]
    }
   ],
   "source": [
    "ontology =  parseOBO(os.path.join(DATADIR,\"doid.obo\"))\n",
    "   \n",
    "print (\"Found %d OBO terms\" % len(ontology))"
   ]
  },
  {
   "cell_type": "markdown",
   "metadata": {},
   "source": [
    "## What does the graph look like?"
   ]
  },
  {
   "cell_type": "markdown",
   "metadata": {},
   "source": [
    "### Macro: to big to plot"
   ]
  },
  {
   "cell_type": "markdown",
   "metadata": {},
   "source": [
    "### Micro: what does a node look like?\n",
    "#### Each node has\n",
    "* A label (the DOID)\n",
    "* A dictionary of attributes"
   ]
  },
  {
   "cell_type": "code",
   "execution_count": 23,
   "metadata": {},
   "outputs": [
    {
     "name": "stdout",
     "output_type": "stream",
     "text": [
      "subset\n",
      "zoonotic_infectious_disease\n",
      "\n",
      "def\n",
      "\"A Human immunodeficiency virus infectious disease that results_in reduction in the numbers of CD4-bearing helper T cells below 200 per µL of blood or 14% of all lymphocytes thereby rendering the subject highly vulnerable to life-threatening infections and cancers, has_material_basis_in Human immunodeficiency virus 1 or has_material_basis_in Human immunodeficiency virus 2, which are transmitted_by sexual contact, transmitted_by transfer of blood, semen, vaginal fluid, pre-ejaculate, or breast milk, transmitted_by congenital method, and transmitted_by contaminated needles. Opportunistic infections are common in people with AIDS.\" [url:http\\://en.wikipedia.org/wiki/AIDS, url:http\\://www2.merriam-webster.com/cgi-bin/mwmednlm?book=Medical&va=aids]\n",
      "\n",
      "name\n",
      "acquired immunodeficiency syndrome\n",
      "\n",
      "xref\n",
      "['EFO:0000765', 'ICD10CM:B20', 'MSH:D000163', 'NCI:C2851', 'OMIM:609423', 'SNOMEDCT_US_2015_03_01:186705005', 'SNOMEDCT_US_2015_03_01:186715004', 'SNOMEDCT_US_2015_03_01:234644008', 'SNOMEDCT_US_2015_03_01:266201009', 'SNOMEDCT_US_2015_03_01:62479008', 'UMLS_CUI:C0001175']\n",
      "\n",
      "synonym\n",
      "['\"acquired Immune deficiency\" EXACT [NCI2004_11_17:C2851]', '\"acquired immune deficiency syndrome\" RELATED [SNOMEDCT_2005_07_31:186705005]', '\"AIDS\" EXACT []']\n",
      "\n"
     ]
    }
   ],
   "source": [
    "for key, value in ontology.node['DOID->635'].items():\n",
    "    print(key)\n",
    "    print(value)\n",
    "    print()"
   ]
  },
  {
   "cell_type": "markdown",
   "metadata": {},
   "source": [
    "### What does an edge look like?\n",
    "\n",
    "* Edges are pair of nodes\n",
    "* Edges also have a dictionary of attributes (which in our graph are all empty)"
   ]
  },
  {
   "cell_type": "code",
   "execution_count": 8,
   "metadata": {},
   "outputs": [
    {
     "data": {
      "text/plain": [
       "{'DOID->371': {}, 'DOID->4160': {}, 'DOID->4163': {}}"
      ]
     },
     "execution_count": 8,
     "metadata": {},
     "output_type": "execute_result"
    }
   ],
   "source": [
    "ontology.edge['DOID->769']"
   ]
  },
  {
   "cell_type": "markdown",
   "metadata": {},
   "source": [
    "## Some functions for searching the graph"
   ]
  },
  {
   "cell_type": "code",
   "execution_count": 9,
   "metadata": {
    "collapsed": true
   },
   "outputs": [],
   "source": [
    "def hasNodeMatchingAttribute(g, attribute):\n",
    "    \"\"\"\n",
    "    \n",
    "    \"\"\"\n",
    "        \n",
    "    matches = []\n",
    "    for n in g.nodes(data=True):\n",
    "        if attribute[1] in n[1].get(attribute[0]):\n",
    "            matches.append((n[0], n[1][\"name\"]))\n",
    "    return matches"
   ]
  },
  {
   "cell_type": "code",
   "execution_count": 10,
   "metadata": {},
   "outputs": [
    {
     "data": {
      "text/plain": [
       "[('DOID->8736', 'smallpox'),\n",
       " ('DOID->3295', 'fowlpox'),\n",
       " ('DOID->8956', 'cowpox'),\n",
       " ('DOID->4369', 'brain hypoxia-Ischemia'),\n",
       " ('DOID->3292', 'monkeypox'),\n",
       " ('DOID->8659', 'chickenpox'),\n",
       " ('DOID->11103', 'rickettsialpox'),\n",
       " ('DOID->2835', 'polycythemia due to hypoxia'),\n",
       " ('DOID->10848', 'intrauterine hypoxia and birth asphyxia')]"
      ]
     },
     "execution_count": 10,
     "metadata": {},
     "output_type": "execute_result"
    }
   ],
   "source": [
    "hasNodeMatchingAttribute(ontology,['name','pox'])"
   ]
  },
  {
   "cell_type": "code",
   "execution_count": 11,
   "metadata": {},
   "outputs": [
    {
     "data": {
      "text/plain": [
       "[('DOID->9940',\n",
       "  'Congenital or acquired abnormality of vulva complicating pregnancy, childbirth, or the puerperium'),\n",
       " ('DOID->13072', 'acquired hyperkeratosis'),\n",
       " ('DOID->12135', 'acquired factor VIII deficiency'),\n",
       " ('DOID->13912', 'acquired color blindness'),\n",
       " ('DOID->12136', 'acquired coagulation factor deficiency'),\n",
       " ('DOID->635', 'acquired immunodeficiency syndrome'),\n",
       " ('DOID->492', 'acquired hemangioma'),\n",
       " ('DOID->621', 'simian acquired immunodeficiency syndrome'),\n",
       " ('DOID->11421', 'acquired cavovarus foot deformity'),\n",
       " ('DOID->4775', 'feline acquired immunodeficiency syndrome'),\n",
       " ('DOID->10111',\n",
       "  'Congenital or acquired abnormality of vagina, with delivery'),\n",
       " ('DOID->10059',\n",
       "  'Congenital or acquired abnormality of vagina complicating pregnancy, childbirth, or the puerperium'),\n",
       " ('DOID->13655', 'acquired tear duct stenosis'),\n",
       " ('DOID->11126', 'acquired thrombocytopenia'),\n",
       " ('DOID->2069', 'vulvar acquired melanocytic nevus'),\n",
       " ('DOID->14099', 'acquired gastric outlet stenosis'),\n",
       " ('DOID->0060158', 'acquired metabolic disease'),\n",
       " ('DOID->11491', 'acquired night blindness'),\n",
       " ('DOID->2834', 'acquired polycythemia'),\n",
       " ('DOID->12647', 'Congenital or acquired abnormality of vulva, with delivery'),\n",
       " ('DOID->13850', 'acquired hallux varus'),\n",
       " ('DOID->12258', 'acquired factor IX deficiency')]"
      ]
     },
     "execution_count": 11,
     "metadata": {},
     "output_type": "execute_result"
    }
   ],
   "source": [
    "hasNodeMatchingAttribute(ontology,['name','acquired'])"
   ]
  },
  {
   "cell_type": "code",
   "execution_count": 12,
   "metadata": {},
   "outputs": [
    {
     "data": {
      "text/plain": [
       "[('DOID->0050925', 'small intestine carcinoid neuroendocrine tumor'),\n",
       " ('DOID->0050911', 'appendix carcinoid tumor'),\n",
       " ('DOID->8600', 'carcinoid syndrome')]"
      ]
     },
     "execution_count": 12,
     "metadata": {},
     "output_type": "execute_result"
    }
   ],
   "source": [
    "hasNodeMatchingAttribute(ontology,['name','carcinoid'])"
   ]
  },
  {
   "cell_type": "code",
   "execution_count": 13,
   "metadata": {
    "collapsed": true,
    "internals": {
     "slide_helper": "subslide_end",
     "slide_type": "subslide"
    },
    "slide_helper": "subslide_end",
    "slideshow": {
     "slide_type": "subslide"
    }
   },
   "outputs": [],
   "source": [
    "def hasNodeWithAttribute(g,attribute):\n",
    "    \"\"\"\n",
    "    \"\"\"\n",
    "    for n in g.nodes(data=True):\n",
    "        if n[1].get(attribute[0]) == attribute[1]:\n",
    "            return n[0]\n",
    "    else:\n",
    "        return None"
   ]
  },
  {
   "cell_type": "markdown",
   "metadata": {},
   "source": [
    "### A function for returning the feature from a node"
   ]
  },
  {
   "cell_type": "code",
   "execution_count": 14,
   "metadata": {
    "collapsed": true,
    "internals": {
     "slide_helper": "subslide_end",
     "slide_type": "subslide"
    },
    "slide_helper": "subslide_end",
    "slideshow": {
     "slide_type": "subslide"
    }
   },
   "outputs": [],
   "source": [
    "def getNodeFeature(graph,n,feature='name'):\n",
    "    try:\n",
    "        return graph.node[n][feature]\n",
    "    except KeyError:\n",
    "        return None"
   ]
  },
  {
   "cell_type": "markdown",
   "metadata": {},
   "source": [
    "## Functions and Methods on Graphs\n",
    "\n",
    "[Graph theory](https://en.wikipedia.org/wiki/Graph_theory) is a rich mathematical field and there are a lot of questions we can ask and answer about graphs. NetworkX provides a rich [set of tools](https://en.wikipedia.org/wiki/Graph_theory) (and [here](https://networkx.github.io/documentation/latest/reference/functions.html)) for answering many of these questions."
   ]
  },
  {
   "cell_type": "markdown",
   "metadata": {},
   "source": [
    "### How many edges and nodes are in the graph?"
   ]
  },
  {
   "cell_type": "code",
   "execution_count": 15,
   "metadata": {},
   "outputs": [
    {
     "name": "stdout",
     "output_type": "stream",
     "text": [
      "7028\n",
      "9188\n"
     ]
    }
   ],
   "source": [
    "print (ontology.number_of_edges())\n",
    "print (ontology.number_of_nodes())"
   ]
  },
  {
   "cell_type": "markdown",
   "metadata": {},
   "source": [
    "### What is the [radius](http://mathworld.wolfram.com/GraphRadius.html) of the graph?"
   ]
  },
  {
   "cell_type": "code",
   "execution_count": 24,
   "metadata": {
    "internals": {
     "slide_helper": "subslide_end",
     "slide_type": "subslide"
    },
    "slide_helper": "subslide_end",
    "slideshow": {
     "slide_type": "subslide"
    }
   },
   "outputs": [
    {
     "ename": "NetworkXError",
     "evalue": "Graph not connected: infinite path length",
     "output_type": "error",
     "traceback": [
      "\u001b[0;31m---------------------------------------------------------------------------\u001b[0m",
      "\u001b[0;31mNetworkXError\u001b[0m                             Traceback (most recent call last)",
      "\u001b[0;32m<ipython-input-24-77e8276a61ec>\u001b[0m in \u001b[0;36m<module>\u001b[0;34m()\u001b[0m\n\u001b[0;32m----> 1\u001b[0;31m \u001b[0mprint\u001b[0m\u001b[0;34m(\u001b[0m\u001b[0mnx\u001b[0m\u001b[0;34m.\u001b[0m\u001b[0mradius\u001b[0m\u001b[0;34m(\u001b[0m\u001b[0montology\u001b[0m\u001b[0;34m)\u001b[0m\u001b[0;34m)\u001b[0m\u001b[0;34m\u001b[0m\u001b[0m\n\u001b[0m",
      "\u001b[0;32m/opt/conda/lib/python3.5/site-packages/networkx/algorithms/distance_measures.py\u001b[0m in \u001b[0;36mradius\u001b[0;34m(G, e)\u001b[0m\n\u001b[1;32m    141\u001b[0m     \"\"\"\n\u001b[1;32m    142\u001b[0m     \u001b[0;32mif\u001b[0m \u001b[0me\u001b[0m \u001b[0;32mis\u001b[0m \u001b[0;32mNone\u001b[0m\u001b[0;34m:\u001b[0m\u001b[0;34m\u001b[0m\u001b[0m\n\u001b[0;32m--> 143\u001b[0;31m         \u001b[0me\u001b[0m\u001b[0;34m=\u001b[0m\u001b[0meccentricity\u001b[0m\u001b[0;34m(\u001b[0m\u001b[0mG\u001b[0m\u001b[0;34m)\u001b[0m\u001b[0;34m\u001b[0m\u001b[0m\n\u001b[0m\u001b[1;32m    144\u001b[0m     \u001b[0;32mreturn\u001b[0m \u001b[0mmin\u001b[0m\u001b[0;34m(\u001b[0m\u001b[0me\u001b[0m\u001b[0;34m.\u001b[0m\u001b[0mvalues\u001b[0m\u001b[0;34m(\u001b[0m\u001b[0;34m)\u001b[0m\u001b[0;34m)\u001b[0m\u001b[0;34m\u001b[0m\u001b[0m\n\u001b[1;32m    145\u001b[0m \u001b[0;34m\u001b[0m\u001b[0m\n",
      "\u001b[0;32m/opt/conda/lib/python3.5/site-packages/networkx/algorithms/distance_measures.py\u001b[0m in \u001b[0;36meccentricity\u001b[0;34m(G, v, sp)\u001b[0m\n\u001b[1;32m     61\u001b[0m         \u001b[0;32mif\u001b[0m \u001b[0mL\u001b[0m \u001b[0;34m!=\u001b[0m \u001b[0morder\u001b[0m\u001b[0;34m:\u001b[0m\u001b[0;34m\u001b[0m\u001b[0m\n\u001b[1;32m     62\u001b[0m             \u001b[0mmsg\u001b[0m \u001b[0;34m=\u001b[0m \u001b[0;34m\"Graph not connected: infinite path length\"\u001b[0m\u001b[0;34m\u001b[0m\u001b[0m\n\u001b[0;32m---> 63\u001b[0;31m             \u001b[0;32mraise\u001b[0m \u001b[0mnetworkx\u001b[0m\u001b[0;34m.\u001b[0m\u001b[0mNetworkXError\u001b[0m\u001b[0;34m(\u001b[0m\u001b[0mmsg\u001b[0m\u001b[0;34m)\u001b[0m\u001b[0;34m\u001b[0m\u001b[0m\n\u001b[0m\u001b[1;32m     64\u001b[0m \u001b[0;34m\u001b[0m\u001b[0m\n\u001b[1;32m     65\u001b[0m         \u001b[0me\u001b[0m\u001b[0;34m[\u001b[0m\u001b[0mn\u001b[0m\u001b[0;34m]\u001b[0m\u001b[0;34m=\u001b[0m\u001b[0mmax\u001b[0m\u001b[0;34m(\u001b[0m\u001b[0mlength\u001b[0m\u001b[0;34m.\u001b[0m\u001b[0mvalues\u001b[0m\u001b[0;34m(\u001b[0m\u001b[0;34m)\u001b[0m\u001b[0;34m)\u001b[0m\u001b[0;34m\u001b[0m\u001b[0m\n",
      "\u001b[0;31mNetworkXError\u001b[0m: Graph not connected: infinite path length"
     ]
    }
   ],
   "source": [
    "print(nx.radius(ontology))"
   ]
  },
  {
   "cell_type": "markdown",
   "metadata": {},
   "source": [
    "### What does it mean to have an infinite radius?"
   ]
  },
  {
   "cell_type": "markdown",
   "metadata": {},
   "source": [
    "### What are the degrees of the nodes?"
   ]
  },
  {
   "cell_type": "code",
   "execution_count": 20,
   "metadata": {},
   "outputs": [
    {
     "data": {
      "text/plain": [
       "<matplotlib.text.Text at 0x7f0ed1ab54a8>"
      ]
     },
     "execution_count": 20,
     "metadata": {},
     "output_type": "execute_result"
    },
    {
     "data": {
      "image/png": "[encoded data removed]",
      "text/plain": [
       "<matplotlib.figure.Figure at 0x7f0ed1b02b38>"
      ]
     },
     "metadata": {},
     "output_type": "display_data"
    }
   ],
   "source": [
    "degrees = nx.degree_histogram(ontology)\n",
    "plt.bar(range(0,len(degrees)),degrees)\n",
    "plt.xlabel(\"degree\")\n",
    "plt.ylabel(\"count\")\n"
   ]
  },
  {
   "cell_type": "markdown",
   "metadata": {},
   "source": [
    "### What are all these zero degree nodes?"
   ]
  },
  {
   "cell_type": "code",
   "execution_count": 25,
   "metadata": {},
   "outputs": [
    {
     "name": "stdout",
     "output_type": "stream",
     "text": [
      "2371\n"
     ]
    }
   ],
   "source": [
    "zero_degree_nodes = [getNodeFeature(ontology,n[0]) for n in ontology.nodes(data=True) \\\n",
    "                     if ontology.degree(n[0])==0]\n",
    "print(len(zero_degree_nodes))"
   ]
  },
  {
   "cell_type": "markdown",
   "metadata": {},
   "source": [
    "### We could also use the `isolates` function"
   ]
  },
  {
   "cell_type": "code",
   "execution_count": 18,
   "metadata": {},
   "outputs": [
    {
     "data": {
      "text/plain": [
       "2371"
      ]
     },
     "execution_count": 18,
     "metadata": {},
     "output_type": "execute_result"
    }
   ],
   "source": [
    "len(nx.isolates(ontology))"
   ]
  },
  {
   "cell_type": "code",
   "execution_count": 19,
   "metadata": {},
   "outputs": [
    {
     "data": {
      "text/plain": [
       "['recurrent vulva cancer',\n",
       " 'Lipomatous hamartoma',\n",
       " 'metastasis to the rectum',\n",
       " 'primary Spirochaetales infectious disease',\n",
       " 'glandular cell epithelial neoplasm',\n",
       " 'Dictyocaulus infectious disease',\n",
       " 'puerperal disease',\n",
       " 'Histoplasma capsulatum pericarditis',\n",
       " 'extraskeletal cartilaginous and osseous tumor',\n",
       " 'feline acquired immunodeficiency syndrome',\n",
       " 'viral gastroenteritis',\n",
       " \"Hodgkin's paragranuloma involving lymph nodes of axilla and upper limb\",\n",
       " 'squamous cell carcinoma of unknown primary',\n",
       " 'ductal adenoma',\n",
       " 'cockade nevus',\n",
       " 'secondary malignant neoplasm to the chest wall',\n",
       " 'Mononegavirales infectious disease',\n",
       " 'sensation disorder',\n",
       " 'neuromuscular junction toxic disorder',\n",
       " 'renal syphilis',\n",
       " 'malignant junctional nevus melanoma',\n",
       " 'Lateral cutaneous femoral nerve of thigh compression or syndrome',\n",
       " 'borderline malignancy serous cystadenoma',\n",
       " 'Measles virus encephalitis',\n",
       " 'primary Vibrionaceae infectious disease',\n",
       " 'Erysipelothrix rhusiopathiae infectious disease',\n",
       " 'coronavirus infectious disease',\n",
       " 'neoplasm of body of uterus',\n",
       " 'polycystic liver disease',\n",
       " 'gastric mesenchymal neoplasm',\n",
       " 'clear cell myomelanocytic tumor of the Falciform Ligament/Ligamentum Teres',\n",
       " 'intraepidermal nevus',\n",
       " 'metastatic neoplasm of ureter',\n",
       " 'Mycoplasma genitalium urethritis',\n",
       " 'contact dermatitis due to arnica',\n",
       " 'alveolar soft part sarcoma metastatic',\n",
       " 'parasite-related carcinoma',\n",
       " 'biliary calculus with acute cholecystitis',\n",
       " 'metastatic neoplasm to the gallbladder',\n",
       " 'ovarian dermoid cyst with corticotropin secreting adenoma',\n",
       " 'Roseolovirus infectious disease',\n",
       " 'passive-aggressive personality disorder',\n",
       " 'carcinoma in situ of female genital organs',\n",
       " 'influenza myocarditis',\n",
       " 'nephrotic syndrome with lesion of persistent glomerulonephritis',\n",
       " 'olivopontocerebellar atrophy V',\n",
       " 'rickettsiosis',\n",
       " 'nodular lymphoma involving intrathoracic lymph nodes',\n",
       " 'intracranial neoplasm',\n",
       " 'short rib-polydactyly syndrome',\n",
       " 'Scopulariopsis infectious disease',\n",
       " 'neuroblastomas of the adrenal gland and sympathetic nervous system',\n",
       " 'cryptococcal gastroenteritis',\n",
       " 'gastrointestinal mucormycosis',\n",
       " 'commensal Actinomycetales infectious disease',\n",
       " 'adult malignant meningioma',\n",
       " 'testicular dysfunction',\n",
       " 'Heterolobosea infectious disease',\n",
       " 'Streptococcus lymphangitis',\n",
       " 'AIDS-related idiopathic thrombocytopenic purpura',\n",
       " 'childhood soft tissue sarcoma',\n",
       " 'alcohol induced sleep disorder',\n",
       " 'nephrotic syndrome with lesion of hypocomplementemic glomerulonephritis',\n",
       " 'coxsackie pericarditis',\n",
       " 'metastatic osteosarcoma',\n",
       " 'infectious canine hepatitis',\n",
       " 'spinal vascular disorder',\n",
       " 'meningococcal septicemia',\n",
       " 'Trichophyton tonsurans tinea capitis',\n",
       " 'iridodialysis',\n",
       " 'bovine trypanosomiasis',\n",
       " 'pituitary dwarfism',\n",
       " 'recurrent childhood optic tract astrocytoma',\n",
       " 'malignant pleural effusion',\n",
       " 'recurrent urethral cancer',\n",
       " \"recurrent extraosseous Ewing's sarcoma\",\n",
       " 'recurrent childhood cancer of liver',\n",
       " 'dysplasia of cervix',\n",
       " 'simple type schizophrenia in remission',\n",
       " 'calculus of gallbladder and bile duct with acute cholecystitis',\n",
       " 'leukemic reticuloendotheliosis of intra-abdominal lymph nodes',\n",
       " 'chronic latent schizophrenia',\n",
       " 'residual subchronic schizophrenia',\n",
       " 'streptococcal necrotizing fasciitis',\n",
       " 'benign lymphoproliferative disease',\n",
       " 'Alphavirus infectious disease',\n",
       " \"Hodgkin's paragranuloma involving lymph nodes of inguinal region and lower limb\",\n",
       " 'transmissible gastroenteritis of swine',\n",
       " 'Cytomegalovirus pneumonia',\n",
       " 'psychosexual dysfunction with male orgasmic disease',\n",
       " 'cerebral actinomycosis',\n",
       " 'primary systemic ascomycota mycosis',\n",
       " 'AIDS-related cryptosporidiosis',\n",
       " 'echovirus meningitis',\n",
       " 'childhood schizophrenia',\n",
       " 'AIDS retinopathy',\n",
       " 'adhesions and disruptions of pupillary membranes',\n",
       " 'recurrent small cell lung cancer',\n",
       " \"Hodgkin's lymphoma, lymphocytic depletion, involving lymph nodes of inguinal region and lower limb\",\n",
       " 'recurrent metastatic squamous cell cancer to the neck with occult primary',\n",
       " 'Good Prognosis metastatic Gestational Trophoblastic tumor',\n",
       " 'simple type schizophrenia chronic state with acute exacerbation',\n",
       " 'commensal Enterobacteriaceae infectious disease',\n",
       " 'Henipavirus infectious disease',\n",
       " 'secondary syphilitic chorioretinitis',\n",
       " 'mediastinal endodermal sinus tumor',\n",
       " 'disseminated scars of retina',\n",
       " 'Trichomonas urethritis',\n",
       " 'Mumps virus orchitis',\n",
       " 'premature rupture of the fetal membranes',\n",
       " 'Lymphocytic choriomeningitis virus encephalitis',\n",
       " 'liver abscess and sequelae of chronic liver disease',\n",
       " 'muscle syphilis',\n",
       " 'Endobronchial hamartoma',\n",
       " 'color vision defect',\n",
       " 'diabetes mellitus insulin dependent type, not stated as uncontrolled, with peripheral circulatory disorder',\n",
       " 'noninflammatory vaginal disorder',\n",
       " 'Burkholderia cepacia complex infectious disease',\n",
       " 'meningococcal meningitis',\n",
       " 'human papilloma virus related vaginal squamous cell carcinoma',\n",
       " 'amino acid transport disease',\n",
       " 'region 17p13 allelic loss associated medulloblastoma',\n",
       " 'transmissible enteritis of turkeys',\n",
       " 'Measles virus hepatitis',\n",
       " 'glaucoma associated with ocular disorder',\n",
       " \"Burkitt's tumor or lymphoma involving lymph nodes of head, face, and neck\",\n",
       " 'localized malignant mesothelioma',\n",
       " 'chronic hypomanic disorder',\n",
       " 'infectious bovine rhinotracheitis',\n",
       " 'malignant histiocytosis involving lymph nodes of head, face, and neck',\n",
       " 'suppressed lactation',\n",
       " 'mediastinum choriocarcinoma',\n",
       " 'deletion of short arm of chromosome 1 (1p) associated meningioma',\n",
       " 'senile nevus',\n",
       " 'disorder of optic chiasm associated with pituitary neoplasm and disorder',\n",
       " 'malignant mediastinal peripheral nerve sheath tumor',\n",
       " 'congenital melanocytic nevus',\n",
       " 'equine encephalitis',\n",
       " 'neural nevus',\n",
       " 'metabolic skin disease',\n",
       " 'secondary malignant neoplasm of trachea',\n",
       " 'mucopolysaccharidosis IV',\n",
       " 'secondary syphilitic uveitis',\n",
       " 'intermittent alternating exotropia',\n",
       " 'breast arcinoma metastatic to the liver',\n",
       " 'adult synovial sarcoma',\n",
       " 'localized resectable adult primary hepatoma',\n",
       " 'human papilloma virus related anal squamous cell carcinoma',\n",
       " 'primary Burkholderiaceae infectious disease',\n",
       " 'recurrent stomach cancer',\n",
       " 'nonsyndromic epilepsy',\n",
       " 'deletion of chromosome 22 associated meningioma',\n",
       " 'physical disorder OBSOLETED TERM',\n",
       " 'mixed choriocarcinoma and seminoma of the testis',\n",
       " 'bronchial tuberculosis',\n",
       " 'simple type schizophrenia subchronic state',\n",
       " '(-)ssRNA virus infectious disease',\n",
       " 'diplopia',\n",
       " 'moderate recurrent major depression',\n",
       " 'metastasis to the retina',\n",
       " 'amebic colitis',\n",
       " 'mature T-cell neoplasm',\n",
       " 'gastrointestinal melanoma',\n",
       " 'anaplastic glioma of brain stem',\n",
       " 'spleen mast cell malignancy',\n",
       " 'postsurgical testicular hypofunction',\n",
       " 'complication of the puerperium',\n",
       " 'kyphosis',\n",
       " 'Measles virus keratoconjunctivitis',\n",
       " 'diabetic oculopathy',\n",
       " 'transient disorder of initiating or maintaining wakefulness',\n",
       " 'primary Actinomycetales infectious disease',\n",
       " \"Hodgkin's lymphoma, nodular sclerosis, involving intra-abdominal lymph nodes\",\n",
       " 'lymphoproliferative disease',\n",
       " 'hypersecretion of testicular hormones',\n",
       " 'superficial ascomycota mycosis',\n",
       " 'mucinous bronchioloalveolar lung carcinoma',\n",
       " 'malignant hemangiopericytoma nonmetastatic',\n",
       " 'adherence syndrome',\n",
       " 'Mycosis fungoides involving lymph nodes of inguinal region and lower limb',\n",
       " 'autoimmune glomerulonephritis',\n",
       " 'visna',\n",
       " \"Burkitt's tumor or lymphoma involving intrapelvic lymph nodes\",\n",
       " 'coxsackie endocarditis',\n",
       " 'plasma cell myeloma PTLD',\n",
       " 'folic acid deficiency',\n",
       " 'Mumps virus encephalitis',\n",
       " 'Ancylostoma duodenale ancylostomiasis',\n",
       " 'penis herpetic infectious disease',\n",
       " 'ovarian dermoid cyst with prolactin secreting adenoma',\n",
       " 'recurrent malignant thymoma',\n",
       " 'mitral valve syphilitic endocarditis',\n",
       " 'inferior vena cava leiomyosarcoma',\n",
       " 'degenerative disorder of eyelid and periocular area',\n",
       " 'infectious myositis',\n",
       " 'polycystic kidney disease',\n",
       " 'human papilloma virus related penile squamous cell carcinoma',\n",
       " 'Aconoidasida infectious disease',\n",
       " 'rhinocerebral mucormycosis',\n",
       " 'adrenal hyperplasia',\n",
       " 'adult leiomyosarcoma',\n",
       " 'gallbladder cancer unresectable',\n",
       " 'malignant giant pigmented nevus melanoma',\n",
       " 'skin tumor of smooth muscle origin',\n",
       " 'jejunal disease',\n",
       " 'adult atypical meningioma',\n",
       " 'primary Mycoplasmatales infectious disease',\n",
       " 'secondary malignant neoplasm of intrapelvic lymph node',\n",
       " 'acquired cavovarus foot deformity',\n",
       " 'chondrogenic neoplasm',\n",
       " 'congenital disorder',\n",
       " 'combined hepatocellular carcinoma and cholangiocarcinoma',\n",
       " 'uterine corpus mixed epithelial and mesenchymal tumor',\n",
       " 'candidal meningitis',\n",
       " 'Borderline malignancy papillary mucinous cystadenoma',\n",
       " 'central nervous system AIDS arteritis',\n",
       " 'lipoma of intrathoracic organ',\n",
       " 'primary Bacillaceae infectious disease',\n",
       " 'oncocytic neoplasm',\n",
       " \"Hodgkin's lymphoma, mixed cellularity, involving intrapelvic lymph nodes\",\n",
       " 'complications mainly related to pregnancy',\n",
       " 'bovine hemorrhagic syndrome',\n",
       " 'adnexa adenocarcinoma',\n",
       " 'Polyomavirus infectious disease',\n",
       " 'mucoepidermoid tumor',\n",
       " 'recurrent childhood malignant germ cell tumor',\n",
       " 'recurrent rectal cancer',\n",
       " 'recurrent malignant peritoneal mesothelioma',\n",
       " 'metastasis to the orbit',\n",
       " 'trivittatus encephalitis',\n",
       " 'recurrent manic episodes in full remission',\n",
       " 'lymphosarcoma involving intrathoracic lymph nodes',\n",
       " 'AIDS-related pelvic inflammatory disease',\n",
       " 'cardiovascular tuberculosis',\n",
       " 'Chlamydia trachomatis infectious disease',\n",
       " 'secondary malignant neoplasm of retroperitoneum and peritoneum',\n",
       " 'krebs 2 carcinoma',\n",
       " 'primary tuberculosis',\n",
       " 'simian acquired immunodeficiency syndrome',\n",
       " 'bovine respiratory disease complex',\n",
       " \"Hodgkin's lymphoma, nodular sclerosis, involving intrathoracic lymph nodes\",\n",
       " 'Staphylococcus gastroenteritis',\n",
       " 'gender identity disorder in children',\n",
       " 'coxsackie meningitis',\n",
       " 'Iris and ciliary body vascular disorder',\n",
       " 'Chondroid hamartoma of lung',\n",
       " 'reticulosarcoma involving lymph nodes of head, face, and neck',\n",
       " 'lung PAP-AD',\n",
       " 'alloimmunization',\n",
       " 'psychosexual dysfunction with inhibited sexual excitement',\n",
       " 'skin compound nevus',\n",
       " 'central nervous system embryonal cancer',\n",
       " 'autosomal recessive disease',\n",
       " 'hyperostosis frontalis interna',\n",
       " 'tuberculous ascites',\n",
       " 'schizo-affective type schizophrenia chronic state with acute exacerbation',\n",
       " 'Herpesviridae infectious disease',\n",
       " 'maternal distress',\n",
       " 'sleep arousal disorder',\n",
       " 'gangosa of yaws',\n",
       " 'Gardnerella vaginalis vaginosis',\n",
       " 'pediatric synovial sarcoma',\n",
       " 'Ancylostoma braziliense ancylostomiasis',\n",
       " 'spondylosis and allied disorder',\n",
       " 'diphtheritic membranous angina',\n",
       " 'vulvar squamous cell carcinoma with tumor giant cells',\n",
       " 'atypical manic disorder',\n",
       " 'residual type schizophrenia',\n",
       " 'superficial spreading adenocarcinoma',\n",
       " 'Epstein-Barr virus related carcinoma',\n",
       " 'malignant histiocytosis involving lymph nodes of axilla and upper limb',\n",
       " 'alveolar soft part sarcoma nonmetastatic',\n",
       " 'eccrine angiomatous hamartoma',\n",
       " 'glaucoma with ocular inflammation',\n",
       " 'carcinoid syndrome',\n",
       " 'mixed hepatoblastoma with teratoid features',\n",
       " 'soldiers heart',\n",
       " 'peritoneal and retroperitoneal tumors',\n",
       " 'tumors of body of uterus complicating pregnancy, childbirth, or the puerperium',\n",
       " 'enterovirus meningitis',\n",
       " 'congenital cystic kidney disease',\n",
       " 'Measles virus otitis media',\n",
       " 'metastatic parathyroid cancer',\n",
       " 'Rubella virus hepatitis',\n",
       " 'AIDS-related herpes zoster',\n",
       " 'craniofacial abnormality',\n",
       " 'drug-induced akathisia',\n",
       " 'recurrent larynx cancer',\n",
       " 'intracranial melanoma',\n",
       " 'Norovirus gastroenteritis',\n",
       " 'embryonal childhood rhabdomyosarcoma',\n",
       " 'unknown primary adenocarcinoma',\n",
       " 'Parvoviridae infectious disease',\n",
       " 'papillary cystic tumor',\n",
       " 'Rotator cuff shoulder syndrome and allied disorder',\n",
       " 'recurrent malignant peripheral nerve sheath neoplasm',\n",
       " 'Salmonella gastroenteritis',\n",
       " 'Bacteroides fragilis peritonitis',\n",
       " 'Streptococcus zooepidemicus meningitis',\n",
       " 'recurrent cancer of pancreas',\n",
       " 'Arteriviridae infectious disease',\n",
       " 'Vibrio cholerae O1 biovar El Tor cholera',\n",
       " 'tuberculous meningitis',\n",
       " 'Capnocytophaga canimorsus endocarditis',\n",
       " 'central nervous system neuroepithelial neoplasm',\n",
       " 'metastatic endometrial adenocarcinoma',\n",
       " 'Rotavirus infectious disease',\n",
       " 'non-traumatic tendon rupture',\n",
       " \"Burkitt's tumor or lymphoma extranodal and solid organ sites\",\n",
       " 'opportunistic Campylobacteraceae infectious disease',\n",
       " 'menopausal and postmenopausal disorder',\n",
       " 'solid alveolar rhabdomyosarcoma',\n",
       " \"Hodgkin's lymphoma, lymphocytic depletion, involving spleen\",\n",
       " 'recurrent non-cutaneous melanoma',\n",
       " 'leukemic reticuloendotheliosis of lymph nodes of axilla and upper limb',\n",
       " 'congenital musculoskeletal abnormality',\n",
       " 'paranoid type schizophrenia chronic state with acute exacerbation',\n",
       " 'AIDS-related cystoisosporiasis',\n",
       " 'regressing nevus',\n",
       " 'chronic glomerulonephritis with lesion of membranoproliferative glomerulonephritis',\n",
       " 'carcinoma of unknown primary',\n",
       " 'malignant intracranial neoplasm By Morphology',\n",
       " 'recurrent hepatoblastoma',\n",
       " 'syndrome of infant of a diabetic mother',\n",
       " 'mitochondrial disease',\n",
       " 'visual pathway meningioma',\n",
       " 'coxsackie carditis',\n",
       " 'intestinal type carcinoma',\n",
       " 'localized resectable neuroblastoma',\n",
       " 'sclerosing mucoepidermoid thyroid carcinoma with eosinophilia',\n",
       " 'drug-Induced dyskinesia',\n",
       " \"Sezary's disease involving lymph nodes of head, face, and neck\",\n",
       " 'commensal Klebsiella infectious disease',\n",
       " 'recurrent adult primary liver cancer',\n",
       " 'intraductal papillomatosis',\n",
       " 'primary Mycoplasma infectious disease',\n",
       " 'paranoid state',\n",
       " 'optic atrophy associated with retinal dystrophy',\n",
       " 'type 1b ALPS',\n",
       " 'disorder of amniotic fluid and membranes',\n",
       " 'Rhabditida infectious disease',\n",
       " 'genetic anomaly of leucocyte',\n",
       " 'paranoid type schizophrenia in remission',\n",
       " 'Trichophyton soudanense tinea capitis',\n",
       " 'African swine fever',\n",
       " 'sinonasal papilloma',\n",
       " 'metastatic chondrosarcoma',\n",
       " 'leptomeningeal neoplasm',\n",
       " 'testicular tumor of the thecoma fibroma group',\n",
       " 'anaplastic seminoma',\n",
       " 'secondary malignant neoplasm of lymph nodes of multiple site',\n",
       " 'arachnoid cyst',\n",
       " 'entropion and trichiasis of eyelid',\n",
       " 'hamartoma of hypothalamus',\n",
       " 'retinal defect',\n",
       " 'nephrotic syndrome with lesion of membranoproliferative glomerulonephritis',\n",
       " 'catatonic schizophrenia',\n",
       " 'commensal Escherichia coli infectious disease',\n",
       " 'glaucoma associated with vascular disorder',\n",
       " 'porcine reproductive and respiratory syndrome',\n",
       " 'Mansonella ozzardi infectious disease',\n",
       " 'lymphosarcoma involving spleen',\n",
       " 'pneumococcal meningitis',\n",
       " 'adenovirus infectious disease',\n",
       " 'leukemic reticuloendotheliosis involving lymph nodes of head, face and neck',\n",
       " \"recurrent Ewing's sarcoma\",\n",
       " 'adhesions of drum head to stapes',\n",
       " 'Multiple Chondromatous hamartoma of lung',\n",
       " 'adenocarcinoma in a polyp',\n",
       " 'Campylobacter coli infectious disease',\n",
       " 'cancer by anatomical entity',\n",
       " 'residual chronic schizophrenia',\n",
       " 'transient organic mental disorder',\n",
       " 'tickborne fever',\n",
       " 'papillary cystadenoma',\n",
       " 'lymphomyeloid tissue disease',\n",
       " \"Hodgkin's sarcoma involving lymph nodes of axilla and upper limb\",\n",
       " 'Major puerperal infectious disease',\n",
       " 'commensal Mycoplasmataceae infectious disease',\n",
       " 'eclampsia with delivery',\n",
       " 'metastasis to heart',\n",
       " 'Burkholderia cepacia infectious disease',\n",
       " 'Strongylus equinus infectious disease',\n",
       " 'recurrent rectosigmoid cancer',\n",
       " 'onychomycosis',\n",
       " 'secondary syphilitic lymphadenitis',\n",
       " 'vitamin D deficiency',\n",
       " 'complications occurring mainly in the course of labor and delivery',\n",
       " 'Tympanosclerosis involving tympanic membrane, ear ossicles and middle ear',\n",
       " 'fallopian tube soft tissue neoplasm',\n",
       " 'Human T-lymphotropic virus 2 infectious disease',\n",
       " 'Haemophilus influenzae pneumonia',\n",
       " 'vulvar blue nevus',\n",
       " 'retinal detachment and defect',\n",
       " 'visual alteration',\n",
       " 'congenital adrenal gland disorder',\n",
       " 'blue nevus',\n",
       " 'hereditary sensory and autonomic neuropathy',\n",
       " 'Measles virus infectious disease',\n",
       " 'subchronic schizophrenia',\n",
       " 'staphylococcal septicemia',\n",
       " 'diabetes mellitus, insulin dependent type with hyperosmolarity, uncontrolled',\n",
       " 'lymphosarcoma involving lymph nodes of multiple sites',\n",
       " 'malignant gastric germ cell tumor',\n",
       " 'metastatic tumor to the colon',\n",
       " 'Streptomyces somaliensis infectious disease',\n",
       " 'peripheral focal retinitis and retinochoroiditis',\n",
       " 'Bacillus cereus gastroenteritis',\n",
       " 'nephrotic syndrome with lesion of lobular glomerulonephritis',\n",
       " 'cerebral Bilophila wadsworthia infectious disease',\n",
       " 'epizootic hemorrhagic disease',\n",
       " 'stromal sarcoma',\n",
       " 'feline panleukopenia',\n",
       " 'secondary glioblastoma multiforme',\n",
       " 'failed induction',\n",
       " 'desmoplastic medulloblastoma',\n",
       " 'adenovirus hepatitis',\n",
       " 'cervical rib syndrome',\n",
       " 'HIV leukoencephalopathy',\n",
       " 'central nervous system cyst',\n",
       " 'disorder of ureter',\n",
       " 'extramucosal (perianal) adenocarcinoma',\n",
       " 'nevoid basal cell carcinoma syndrome associated medulloblastoma',\n",
       " 'hypoaldosteronism',\n",
       " 'Blastocystis hominis infectious disease',\n",
       " 'localized extrahepatic bile duct cancer',\n",
       " 'childhood malignant central nervous system neoplasm',\n",
       " 'ACTH-producing pituitary tumor',\n",
       " 'diabetes mellitus insulin dependent type uncontrolled with renal manifestations',\n",
       " 'glaucoma associated with anomalies of iris',\n",
       " 'ocular onchocerciasis',\n",
       " \"Hodgkin's lymphoma, nodular sclerosis, involving lymph nodes of head, face, and neck\",\n",
       " 'acute erythremia and erythroleukemia in remission',\n",
       " 'malignant soft tissue neoplasm of central nervous system',\n",
       " 'paratuberculosis',\n",
       " 'mammary duct ectasia',\n",
       " 'mixed embryonal carcinoma and teratoma of the testis',\n",
       " 'drug-induced delirium',\n",
       " 'arthropathy due to hypersensitivity reaction',\n",
       " 'ovarian mixed germ cell-sex cord neoplasm',\n",
       " 'psychogenic dysmenorrhea',\n",
       " 'coxsackievirus encephalitis',\n",
       " 'alternating exotropia with V pattern',\n",
       " 'vitamin A deficiency',\n",
       " 'calculus of gallbladder with acute cholecystitis, with obstruction',\n",
       " 'serous cystadenoma',\n",
       " 'Torovirus infectious disease',\n",
       " 'dsDNA-RT virus infectious disease',\n",
       " 'Respirovirus infectious disease',\n",
       " 'exaggerated placental site',\n",
       " 'Trichomonas prostatitis',\n",
       " 'acute renal failure with lesion of renal cortical necrosis',\n",
       " \"Sezary's disease involving intrapelvic lymph nodes\",\n",
       " 'peripheral dysostosis',\n",
       " 'adult craniopharyngioma',\n",
       " 'metastatic endometrioid carcinoma',\n",
       " 'Epstein-Barr virus infectious disease',\n",
       " 'Mycoplasma hyopneumoniae pneumonia',\n",
       " 'chronic rejection of renal transplant',\n",
       " 'generalized nonconvulsive epilepsy disease',\n",
       " 'congenital contricting bands',\n",
       " 'spinal enthesopathy',\n",
       " 'intraepithelial neoplasm',\n",
       " 'Escherichia coli pneumonia',\n",
       " 'mental disorder',\n",
       " 'opportunistic Actinomycetales infectious disease',\n",
       " 'Mild hyperemesis gravidarum',\n",
       " 'catatonic type schizophrenia subchronic state with acute exacerbation',\n",
       " 'Mycobacterium infectious disease',\n",
       " 'breast hamartoma',\n",
       " 'Microsporum gypseum tinea capitis',\n",
       " 'gestational diabetes complicating pregnancy, childbirth, or the puerperium',\n",
       " 'syphilitic aortic aneurysm',\n",
       " 'secondary malignant neoplasm of suprarenal gland',\n",
       " 'renal neoplasm with t(6;11)(p21;q12)',\n",
       " 'dominant cogenital severe sensorineural deafness',\n",
       " 'peripheral enthesopathy',\n",
       " 'Borrelia infectious disease',\n",
       " 'syphilitic pericarditis',\n",
       " 'tumor of the thecoma fibroma group',\n",
       " 'allergic gastroenteritis and colitis',\n",
       " 'persistent disorder of initiating or maintaining wakefulness',\n",
       " 'canine distemper',\n",
       " 'Retracted nipple associated with childbirth',\n",
       " 'perinatal cyanotic attack',\n",
       " 'toxic myopathy',\n",
       " 'mesonephric tumor',\n",
       " 'ovarian dermoid cyst with squamous cell carcinoma',\n",
       " 'pulmonary actinomycosis',\n",
       " 'nephrotic syndrome with lesion of proliferative glomerulonephritis',\n",
       " 'disorganized type schizophrenia chronic state with acute exacerbation',\n",
       " 'moderate degree recurrent episode manic disease',\n",
       " 'influenza myositis',\n",
       " 'sensory disorder of eyelid',\n",
       " 'pseudorabies',\n",
       " 'immunodeficiency with increased IgM',\n",
       " 'AIDS-related oropharyngeal candidiasis',\n",
       " 'pinna disease',\n",
       " \"Sezary's disease involving lymph nodes of inguinal region and lower limb\",\n",
       " 'acute renal failure with lesion of renal medullary necrosis',\n",
       " 'conjunctival degenerations and deposits',\n",
       " 'wrist or carpus enthesopathy',\n",
       " 'Diabetes mellitus of mother, with delivery',\n",
       " 'histoplasmosis endocarditis',\n",
       " 'recurrent uvea melanoma',\n",
       " 'anosognostic epilepsy',\n",
       " 'opportunistic ascomycota mycosis',\n",
       " 'thiamine deficiency',\n",
       " 'HIV-associated lipodystrophy syndrome',\n",
       " 'prolonged pregnancy',\n",
       " 'Cytomegalovirus colitis',\n",
       " 'anaplastic giant cell thyroid carcinoma',\n",
       " 'breast adenolipoma',\n",
       " 'group A streptococcal pneumonia',\n",
       " 'nodular lymphoma involving spleen',\n",
       " 'mediastinum chondroma',\n",
       " 'occupational disease',\n",
       " 'transient disorder of initiating or maintaining sleep',\n",
       " 'anaplastic childhood oligodendroglioma',\n",
       " 'localized unresectable adult primary hepatoma',\n",
       " 'primary Spirillaceae infectious disease',\n",
       " 'Herpes simplex virus gingivostomatitis',\n",
       " 'Herpes simplex virus keratitis',\n",
       " 'meningitis with clear cerebrospinal fluid',\n",
       " 'Congenital or acquired abnormality of vagina, with delivery',\n",
       " 'commensal Mycoplasmatales infectious disease',\n",
       " 'posttransplantation lymphoproliferative disease',\n",
       " 'herpes zoster meningitis',\n",
       " 'gouty nephropathy',\n",
       " 'group B streptococcal pneumonia',\n",
       " 'primary Helicobacteraceae infectious disease',\n",
       " 'hemophilia',\n",
       " 'secondary thyroid hyperplasia',\n",
       " 'hamartoma of lung',\n",
       " 'primary Streptomycetaceae infectious disease',\n",
       " 'snowshoe hare encephalitis',\n",
       " 'metastasis to the peritoneum',\n",
       " 'recurrent renal cell carcinoma',\n",
       " 'disorganized schizophrenia in remission',\n",
       " 'monocular exotropia with V pattern',\n",
       " 'somatosensory disorder',\n",
       " 'nevus',\n",
       " 'combined carcinoma of lung',\n",
       " 'port-wine stain',\n",
       " 'breast carcinoma metastatic to the brain',\n",
       " 'catatonic type schizophrenia subchronic state',\n",
       " 'galactorrhea not associated with childbirth',\n",
       " 'copper metabolism disease',\n",
       " 'metastasis to skin',\n",
       " 'Wuchereria bancrofti filariasis',\n",
       " 'anaplastic oligoastrocytoma',\n",
       " 'Bordetella pertussis whooping cough',\n",
       " 'mediastinum embryonal carcinoma',\n",
       " 'atopic dermatitis and related conditions',\n",
       " \"Hodgkin's lymphoma, lymphocytic-histiocytic predominance involving intra-abdominal lymph nodes\",\n",
       " 'pediatric rhabdomyosarcoma',\n",
       " 'abortion complicated by renal failure',\n",
       " 'large for dates affecting management of mother',\n",
       " 'Hodgkin-like posttransplantation lymphoproliferative disease',\n",
       " 'Tritrichomonadida infectious disease',\n",
       " 'premature labor',\n",
       " 'primary Bartonellaceae infectious disease',\n",
       " 'acute schizophrenic episode subchronic state',\n",
       " 'AIDS-related cryptococcosis',\n",
       " 'vitamin B 12 deficiency',\n",
       " 'recurrent pediatric medulloblastoma',\n",
       " 'brain hypoxia-Ischemia',\n",
       " 'FAP associated medulloblastoma',\n",
       " 'Chryseobacterium indologenes infectious disease',\n",
       " 'malignant non-epithelial hepatic and intrahepatic bile duct neoplasm',\n",
       " 'polyglandular dysfunction',\n",
       " \"Burkitt's tumor or lymphoma involving lymph nodes of inguinal region and lower limb\",\n",
       " 'disorder of magnesium metabolism',\n",
       " 'depressive state induced by drug',\n",
       " 'herpetic vulvovaginitis',\n",
       " 'metastatic tumor to the iris',\n",
       " 'mixed embryonal carcinoma and teratoma of the mediastinum',\n",
       " 'Trichomonas tenax trichomoniasis',\n",
       " 'recurrent plasma cell neoplasm',\n",
       " 'melanocytic nevus',\n",
       " 'ovarian serous tumor',\n",
       " 'ocular tuberculosis',\n",
       " \"metastatic extra-osseous Ewing's sarcoma\",\n",
       " 'mixed embryonal carcinoma and seminoma of the testis',\n",
       " 'pneumococcal pneumonia',\n",
       " 'nocardial cellulitis',\n",
       " 'malignant histiocytosis involving intra-abdominal lymph nodes',\n",
       " 'diabetes mellitus insulin dependent type, not stated as uncontrolled, with ophthalmic manifestations',\n",
       " 'recurrent childhood brain tumor',\n",
       " 'ectopic calcitonin production',\n",
       " 'fetal blood loss',\n",
       " 'Chlamydia trachomatis proctitis',\n",
       " 'mild recurrent major depression',\n",
       " 'Malposition and malpresentation of fetus',\n",
       " 'viral hemorrhagic septicemia',\n",
       " 'thyroid gland tuberculosis',\n",
       " 'primary Rickettsiaceae infectious disease',\n",
       " 'group A hyperlipidemia',\n",
       " 'Chlamydophila psittaci pneumonia',\n",
       " 'Picornaviridae infectious disease',\n",
       " 'chronic pyelonephritis with lesion of renal medullary necrosis',\n",
       " 'Streptococcus agalactiae meningitis',\n",
       " 'Fryns syndrome',\n",
       " \"Hodgkin's lymphoma, lymphocytic depletion, involving lymph nodes of axilla and upper limb\",\n",
       " 'Neoscytalidium dimidiatum infectious disease',\n",
       " 'Majewski syndrome',\n",
       " 'abortive plague',\n",
       " 'lymphoid tissue disease',\n",
       " 'Bornaviridae infectious disease',\n",
       " 'metastatic neoplasm to the ciliary body',\n",
       " 'AIDS-related anal cancer',\n",
       " 'aortic valve syphilitic endocarditis',\n",
       " 'mediastinum malignant teratoma',\n",
       " 'nontoxic uninodular goiter',\n",
       " 'recurrent adult acute lymphocytic leukemia',\n",
       " 'gastrointestinal hemorrhage of fetus or newborn',\n",
       " 'superficial basidiomycota mycosis',\n",
       " 'desmoplastic melanoma',\n",
       " 'Tympanosclerosis of tympanic membrane and ossicles',\n",
       " 'Acanthamoeba keratitis',\n",
       " 'acute undifferentiated schizophrenia',\n",
       " 'delimited old retinal detachment',\n",
       " 'balloon cell nevus',\n",
       " 'Coxiella burnetii pneumonia',\n",
       " 'Nidovirales infectious disease',\n",
       " 'inverted papilloma of paranasal sinus',\n",
       " 'mixed eosinophil-basophil carcinoma',\n",
       " \"Hodgkin's lymphoma, lymphocytic depletion, involving lymph nodes of head, face, and neck\",\n",
       " 'familial hypophosphatemia',\n",
       " 'renal pelvis and ureter recurrent transitional cell cancer',\n",
       " 'vitamin A deficiency with conjunctival xerosis',\n",
       " 'congenital adhesion of tongue',\n",
       " 'non small cell lung cancer recurrent',\n",
       " 'commensal Desulfovibrionaceae infectious disease',\n",
       " 'Parabasalia infectious disease',\n",
       " 'Mansonella streptocerca infectious disease',\n",
       " 'polioencephalitis',\n",
       " 'avian leukosis',\n",
       " 'anaplastic gastric carcinoma',\n",
       " 'adenocarcinoma in adenomatous polyposis coli',\n",
       " 'herpes zoster keratoconjunctivitis',\n",
       " 'recurrent adult primary hepatoma',\n",
       " 'tuberculous myelitis',\n",
       " 'congenital kyphosis',\n",
       " 'lipogranuloma',\n",
       " 'small intestinal gastrinoma',\n",
       " 'single manic episode in full remission',\n",
       " 'diabetes mellitus,insulin dependent type with hyperosmolarity, not stated as uncontrolled',\n",
       " 'hemorrhagic disease of newborn',\n",
       " 'breast vascular neoplasm',\n",
       " 'malignant hypertensive heart disease',\n",
       " 'Helicobacter pylori gastritis',\n",
       " 'disseminated neuroblastoma',\n",
       " 'flat adenoma syndrome',\n",
       " 'stromal neoplasm',\n",
       " 'papillary epithelial neoplasm',\n",
       " 'protracted reactive paranoid psychosis',\n",
       " 'calculus of gallbladder and bile duct with acute and chronic cholecystitis',\n",
       " 'vitamin A deficiency with night blindness',\n",
       " 'hepatitis B virus related hepatocellular carcinoma',\n",
       " 'epidermal nevus',\n",
       " 'lipoma of intra-abdominal organ',\n",
       " 'secondary malignant neoplasm of brain and spinal cord',\n",
       " \"Hodgkin's sarcoma involving intrathoracic lymph nodes\",\n",
       " 'chronic undifferentiated schizophrenia',\n",
       " 'Astroviridae infectious disease',\n",
       " 'mannosidase deficiency disease',\n",
       " 'ovarian dermoid cyst with secondary sarcoma',\n",
       " 'recurrent cancer of colon',\n",
       " 'regressing malignant melanoma',\n",
       " 'atypical meningioma',\n",
       " 'contagious pleuropneumonia',\n",
       " 'Mycobacterium avium complex lymphadenitis',\n",
       " 'intracranial lipoma',\n",
       " 'cutaneous listeriosis',\n",
       " 'leptospiral meningitis',\n",
       " 'autosomal recessive polycystic kidney',\n",
       " 'Pseudomonas keratitis',\n",
       " 'commensal Haemophilus infectious disease',\n",
       " 'Histoplasma capsulatum pneumonia',\n",
       " 'secondary carcinoma',\n",
       " 'Chlamydophila pneumoniae pneumonia',\n",
       " 'congenital anosmia',\n",
       " 'Arterivirus infectious disease',\n",
       " 'Nairobi sheep disease',\n",
       " 'hemispheric anaplastic astrocytoma',\n",
       " 'vulvar acquired melanocytic nevus',\n",
       " 'Mental disorder complicating pregnancy, childbirth, or the puerperium',\n",
       " 'Cytomegalovirus gastritis',\n",
       " 'HIV enteropathy',\n",
       " 'amebic dysentery',\n",
       " 'dermoid cyst with malignant transformation',\n",
       " 'pulmonary syphilis',\n",
       " 'subchronic latent schizophrenia',\n",
       " 'circumscribed storiform collagenoma',\n",
       " 'otitis media with effusion',\n",
       " 'lymphangitis-associated rickettsiosis',\n",
       " 'malignant histiocytosis involving spleen',\n",
       " 'adhesions and disruptions of iris and ciliary body',\n",
       " 'resectable small intestine carcinoma',\n",
       " \"endemic African Kaposi's sarcoma\",\n",
       " 'lymphosarcoma and reticulosarcoma',\n",
       " 'nervous system heredodegenerative disease',\n",
       " 'feline infectious peritonitis',\n",
       " 'schizophrenia simplex',\n",
       " 'bacterial gastroenteritis',\n",
       " 'Ehrlichia ewingii ehrlichiosis',\n",
       " 'nodular lung tuberculosis',\n",
       " 'diabetes mellitus juvenile type, uncontrolled, with neurological manifestations',\n",
       " 'acquired hallux varus',\n",
       " 'non-suppurative otitis media and eustachian tube disorder',\n",
       " 'infectious disease of the breast and nipple associated with childbirth',\n",
       " 'borderline ovarian serous neoplasm with microinvasion',\n",
       " 'renal pelvis and ureter cancer',\n",
       " 'pediatric CNS teratoma',\n",
       " 'mediastinum mature teratoma',\n",
       " 'recurrent primitive neuroectodermal tumor',\n",
       " 'mitotically active variant uterine corpus leiomyoma',\n",
       " 'meninges gliomatosis',\n",
       " 'superior vena cava malignant neoplasm',\n",
       " 'Bacillus anthracis pneumonia',\n",
       " 'tracheal tuberculosis',\n",
       " 'metastatic small intestinal adenocarcinoma',\n",
       " 'Bordetella pertussis pneumonia',\n",
       " 'respiratory syncytial virus pneumonia',\n",
       " 'intestinal adenocarcinoma of the stomach',\n",
       " 'recurrent nevus',\n",
       " 'reticulosarcoma involving intrapelvic lymph nodes',\n",
       " 'Elizabethkingia meningoseptica infectious disease',\n",
       " 'syphilitic endocarditis',\n",
       " 'nocardial keratitis',\n",
       " 'transitional cell intraepithelial neoplasm',\n",
       " 'Treponema infectious disease',\n",
       " 'nutritional cardiomyopathy',\n",
       " 'mucinous neoplasm',\n",
       " 'streptococcal septicemia',\n",
       " 'Acoelomata infectious disease',\n",
       " 'malignant bone vascular tumor',\n",
       " 'Chromadorea infectious disease',\n",
       " 'commensal streptococcal infectious disease',\n",
       " 'complex genetic disease',\n",
       " 'Chlamydia trachomatis pharyngitis',\n",
       " 'drop secondary malignant neoplasm to the spinal cord',\n",
       " 'lower limb lymph node mast cell malignancy',\n",
       " 'malignant mesenchymal neoplasm of the stomach',\n",
       " 'cerebral amebiasis',\n",
       " 'relapsed angiosarcoma',\n",
       " 'adult rhabdomyosarcoma',\n",
       " 'secondary malignant neoplasm to the pancreas',\n",
       " \"Hodgkin's granuloma involving spleen\",\n",
       " 'localized unresectable adult primary liver cancer',\n",
       " 'epilepsia partialis continua with intractable epilepsy',\n",
       " 'ascorbic acid deficiency',\n",
       " 'secondary malignant neoplasm to the nervous system',\n",
       " 'malignant mediastinal mesenchymal tumor',\n",
       " 'primary genital syphilis',\n",
       " 'breast fibroepithelial tumor',\n",
       " 'nephrotic syndrome with lesion of endothelial glomerulonephritis',\n",
       " 'pharyngeal gonorrhea',\n",
       " 'Vasa previa complicating labor and delivery, delivered',\n",
       " 'cerebral meninges malignant neoplasm',\n",
       " 'testicular spermatocytic seminoma with sarcoma',\n",
       " 'schizo-affective type schizophrenia subchronic state',\n",
       " 'tuberculous erythema nodosum',\n",
       " 'lentiginosis profusa',\n",
       " 'malignant miscellaneous mesenchymal tumor',\n",
       " 'magnesium deficiency',\n",
       " 'poliovirus type II nonparalytic poliomyelitis',\n",
       " 'uterine corpus smooth muscle neoplasm',\n",
       " 'intestinal capillariasis',\n",
       " 'anaplastic astrocytoma of adult',\n",
       " 'common blue nevus',\n",
       " 'glandular cell intraepithelial neoplasm',\n",
       " 'adult brain meningioma',\n",
       " 'RNA virus infectious disease',\n",
       " 'primary Erysipelotrichaceae infectious disease',\n",
       " 'acroosteolysis',\n",
       " 'urethral condylomata acuminata',\n",
       " 'infant nutrition disorder',\n",
       " 'lung recurrent squamous cell carcinoma',\n",
       " 'hemopoetic tissue disease',\n",
       " 'lung occult non-small cell carcinoma',\n",
       " 'metastases to large Intestine',\n",
       " 'Scytalidium hyalinum infectious disease',\n",
       " 'Pilosebaceous hamartoma',\n",
       " 'Toxoplasma pneumonia',\n",
       " 'hyperamylasemia',\n",
       " 'recurrent cancer of gallbladder',\n",
       " 'Pregnancy in Diabetics',\n",
       " 'recurrent esophagus cancer',\n",
       " 'relapsed childhood ependymoma',\n",
       " 'Bunyaviridae infectious disease',\n",
       " 'vaginal condylomata acuminata',\n",
       " 'acute schizophrenic episode chronic state',\n",
       " 'transitional cell carcinoma of the ureter with squamous differentiation',\n",
       " 'alternating esotropia with V pattern',\n",
       " \"Meniere's disease in remission\",\n",
       " 'transitional cell carcinoma of the ureter with mixed differentiation',\n",
       " 'prostate non-neoplastic disease',\n",
       " 'spinal cord secondary cancer',\n",
       " 'miscellaneous mesenchymal neoplasm',\n",
       " 'primary Coxiellaceae infectious disease',\n",
       " 'adenovirus gastroenteritis',\n",
       " 'diencephalic anaplastic astrocytoma',\n",
       " 'perinatal respiratory disorder',\n",
       " 'disorder of pancreatic internal secretion',\n",
       " 'ovarian dermoid cyst with secondary melanocytic lesion',\n",
       " 'Saffold virus gastroenteritis',\n",
       " 'Mumps virus meningitis',\n",
       " 'histoplasmosis pneumonia',\n",
       " 'Partial recent retinal detachment with retinal dialysis',\n",
       " 'abscess of thyroid',\n",
       " 'gonococcal keratosis',\n",
       " 'Morbillivirus infectious disease',\n",
       " 'fusion with defective stereopsis',\n",
       " 'malignant histiocytosis involving lymph nodes of inguinal region and lower limb',\n",
       " 'drug abstinence syndrome or symptom',\n",
       " 'malignant neoplasm of thymus, heart and mediastinum',\n",
       " 'malignant neoplasm of trachea, bronchus and lung',\n",
       " 'disseminated sporotrichosis',\n",
       " 'metastasis to pituitary gland',\n",
       " 'urogenital abnormality',\n",
       " 'syphilitic retrobulbar neuritis',\n",
       " 'Hantavirus infectious disease',\n",
       " 'degenerative changes of ciliary body',\n",
       " 'cervical soft tissue tumor',\n",
       " 'Deltaretrovirus infectious disease',\n",
       " 'non-resectable small intestine carcinoma',\n",
       " 'myeloid metaplasia',\n",
       " 'glaucoma associated with tumors or cysts',\n",
       " 'bone and joint disorder of back, pelvis and lower limbs of mother, complicating pregnancy, childbirth, or the puerperium',\n",
       " 'ssDNA virus infectious disease',\n",
       " 'vesicoureteral reflux with reflux nephropathy',\n",
       " 'medullary carcinoma with amyloid stroma',\n",
       " 'lymphosarcoma involving lymph nodes of axilla and upper limb',\n",
       " 'type 1a ALPS',\n",
       " 'disorganized schizophrenia',\n",
       " 'malignant histiocytosis involving intrapelvic lymph nodes',\n",
       " 'Togaviridae infectious disease',\n",
       " 'helicobacter pylori-related gastric adenocarcinoma',\n",
       " 'Microsporum distortum tinea capitis',\n",
       " \"Hodgkin's sarcoma involving lymph nodes of multiple sites\",\n",
       " 'candidal endocarditis',\n",
       " 'pneumococcal septicemia',\n",
       " 'Enterovirus gastroenteritis',\n",
       " \"Hodgkin's lymphoma, lymphocytic-histiocytic predominance involving lymph nodes of head, face, and neck\",\n",
       " 'Histoplasma capsulatum gastritis',\n",
       " 'lumpy skin disease',\n",
       " 'hip enthesopathy',\n",
       " 'wasting syndrome',\n",
       " 'acrosyringeal nevus',\n",
       " 'experimental melanoma',\n",
       " 'commensal Neisseriaceae infectious disease',\n",
       " 'transitory tachypnea of newborn',\n",
       " 'tuberculous encephalitis',\n",
       " 'solid carcinoma of lung with mucus formation',\n",
       " 'hamartoma of Eccrine Sweat gland',\n",
       " 'vulvar melanocytic neoplasm',\n",
       " 'vulvar metastasis',\n",
       " 'swine vesicular disease',\n",
       " 'non-neoplastic non-molar trophoblastic disorder',\n",
       " 'Trichophyton schoenleinii tinea capitis',\n",
       " 'Hepadnaviridae infectious disease',\n",
       " 'Mumps virus hepatitis',\n",
       " \"Hodgkin's lymphoma, mixed cellularity, involving lymph nodes of axilla and upper limb\",\n",
       " 'Orbivirus infectious disease',\n",
       " 'ovarian dermoid cyst with melanoma',\n",
       " 'mucormycosis',\n",
       " 'Vibrio infectious disease',\n",
       " 'reticulosarcoma involving lymph nodes of axilla and upper limb',\n",
       " 'resectable hepatoblastoma',\n",
       " 'iris vascular disorder',\n",
       " 'sickle-cell crisis',\n",
       " 'juxtapapillary focal choroiditis and chorioretinitis',\n",
       " \"agricultural workers' disease\",\n",
       " 'meningococcal encephalitis',\n",
       " 'metastatic malignant tumor to the anus',\n",
       " \"Burkitt's tumor or lymphoma involving lymph nodes of multiple sites\",\n",
       " \"Hodgkin's sarcoma involving lymph nodes of inguinal region and lower limb\",\n",
       " 'benign hypertensive heart disease',\n",
       " 'mesenchymal hamartoma of the liver',\n",
       " 'spindle cell cancer',\n",
       " 'macrodactylia of fingers',\n",
       " 'Histoplasma duboisii pericarditis',\n",
       " 'hepatoblastoma with combined fetal epithelial differentiation',\n",
       " 'psychomotor disease',\n",
       " 'Hyphema of iris and ciliary body',\n",
       " 'cutaneous tuberculosis',\n",
       " 'nontoxic multinodular goiter',\n",
       " 'pneumopericardium',\n",
       " 'mild degree recurrent episode manic disorder',\n",
       " 'Cysts of iris, ciliary body and anterior chamber',\n",
       " 'halo nevus',\n",
       " 'primary Haemophilus infectious disease',\n",
       " 'Pseudomonas septicemia',\n",
       " 'hereditary trophedema',\n",
       " 'malignant fibrous histiocytoma recurrent',\n",
       " 'pulmonary vascular disorder',\n",
       " 'astrovirus gastroenteritis',\n",
       " 'Thiamine and niacin deficiency state',\n",
       " 'disseminated paracoccidioidomycosis',\n",
       " 'papillary serous cystadenoma',\n",
       " 'regressing non-cutaneous melanoma',\n",
       " 'postpartum acute renal failure',\n",
       " 'metabolic brain disease',\n",
       " 'Staphylococcus aureus ecthyma',\n",
       " 'bluetongue',\n",
       " 'maturing ganglioneuroma',\n",
       " 'streptococcal pharyngitis',\n",
       " 'recurrent malignant pericardial mesothelioma',\n",
       " 'Actinomadura pelletieri infectious disease',\n",
       " 'metastatic endometrial carcinoma',\n",
       " 'secondary syphilitic meningitis',\n",
       " 'intrauterine hypoxia and birth asphyxia',\n",
       " 'congenital epilepsy',\n",
       " 'generalized hyperhidrosis',\n",
       " 'malignant esophageal neoplasm by anatomic region',\n",
       " 'macrocephaly',\n",
       " 'postherpetic polyneuropathy',\n",
       " 'congenital rubella',\n",
       " 'ganglioneuroma of the retroperitoneum',\n",
       " 'central nervous system mixed germ cell tumor',\n",
       " 'maternal pyrexia in labor',\n",
       " 'Trichophyton megninii tinea capitis',\n",
       " 'CNS choriocarcinoma',\n",
       " 'hamartoma',\n",
       " 'disease of biological process',\n",
       " 'herpes zoster dermatitis',\n",
       " 'macular or paramacular focal retinitis and retinochoroiditis',\n",
       " 'resectable duodenal carcinoma',\n",
       " 'late pregnancy',\n",
       " 'metastasis to prostate',\n",
       " 'foot and mouth disease',\n",
       " 'hepatic capillariasis',\n",
       " 'pulmonary capillariasis',\n",
       " 'medulloblastoma with leptomeningeal spread',\n",
       " 'penile vascular disorder',\n",
       " \"Hodgkin's lymphoma, nodular sclerosis, involving lymph nodes of multiple sites\",\n",
       " 'malignant ovarian clear cell neoplasm',\n",
       " 'adhesions of drum head to incus',\n",
       " 'skin fibrous tissue neoplasm',\n",
       " 'pseudopolyposis of colon',\n",
       " 'upper limb lymph node mast cell malignancy',\n",
       " 'hamartoma of Apocrine Sweat gland',\n",
       " 'mesothelioma malignant recurrent',\n",
       " 'lymphosarcoma involving intra-abdominal lymph nodes',\n",
       " 'primitive neuroectodermal tumor with Leptomeningeal Spread',\n",
       " 'reticulosarcoma involving lymph nodes of multiple sites',\n",
       " 'adenocarcinoma in villous adenoma',\n",
       " 'bursa syphilis',\n",
       " 'mycosis fungoides involving intrathoracic lymph nodes',\n",
       " 'metastasis to the kidney',\n",
       " 'ephemeral fever',\n",
       " 'ganglioneuroma of the mediastinum',\n",
       " 'atrophy of thyroid',\n",
       " 'ovarian dermoid cyst with angiosarcoma',\n",
       " 'tuberculous pneumonia',\n",
       " 'malignant peripheral nerve neoplasm',\n",
       " 'enchondromatosis',\n",
       " 'Mumps virus pancreatitis',\n",
       " 'adhesions of iris',\n",
       " 'malignant histiocytosis involving intrathoracic lymph nodes',\n",
       " 'reproductive endocrine cancer',\n",
       " 'Ascaridida infectious disease',\n",
       " 'anaplasmosis',\n",
       " 'glaucoma due to raised episcleral venous pressure',\n",
       " \"Hodgkin's lymphoma, mixed cellularity, involving lymph nodes of inguinal region and lower limb\",\n",
       " 'opportunistic Enterobacteriaceae infectious disease',\n",
       " 'reticulosarcoma involving intra-abdominal lymph nodes',\n",
       " 'Toxoplasma myocarditis',\n",
       " \"AIDS-related cervical Kaposi's sarcoma\",\n",
       " 'lung carcinoma metastatic to the liver',\n",
       " \"recurrent Kaposi's sarcoma\",\n",
       " 'upper limb cancer',\n",
       " 'serous neoplasm',\n",
       " 'metastasizing mixed tumor of salivary gland',\n",
       " 'intractable epilepsy',\n",
       " 'Bacillus cereus pneumonia',\n",
       " 'autosomal dominant disease',\n",
       " \"Burkitt's tumor or lymphoma involving intrathoracic lymph nodes\",\n",
       " 'female genital tuberculosis',\n",
       " 'mixed embryonal carcinoma and endodermal sinus neoplasm of the testis',\n",
       " 'enterotoxemia',\n",
       " 'ichthyosis',\n",
       " 'Elizabethkingia meningoseptica meningitis',\n",
       " 'psychosexual dysfunction with female orgasmic disease',\n",
       " 'bovine anaplasmosis',\n",
       " 'ear tuberculosis',\n",
       " 'malignant fibrous histiocytoma metastatic',\n",
       " 'Flaviviridae infectious disease',\n",
       " 'Vibrio gastroenteritis',\n",
       " 'open angle with borderline glaucoma findings',\n",
       " 'opportunistic microsporidia mycosis',\n",
       " 'recurrent extraskeletal chondrosarcoma',\n",
       " 'papillary pseudomucinous cystadenoma',\n",
       " 'Haemophilus influenzae meningitis',\n",
       " 'mediastinal non-seminomatous germ cell cancer',\n",
       " 'fetal disease',\n",
       " 'Galactorrhea associated with childbirth',\n",
       " 'cyst of thyroid',\n",
       " ...]"
      ]
     },
     "execution_count": 19,
     "metadata": {},
     "output_type": "execute_result"
    }
   ],
   "source": [
    "zero_degree_nodes"
   ]
  },
  {
   "cell_type": "markdown",
   "metadata": {},
   "source": [
    "## Challenge: What is the most important node?\n",
    "\n",
    "* \"Important\": node with the largest degree"
   ]
  },
  {
   "cell_type": "code",
   "execution_count": 26,
   "metadata": {},
   "outputs": [
    {
     "name": "stdout",
     "output_type": "stream",
     "text": [
      "('endocrine and metabolic disturbances specific to the fetus and newborn', 'DOID->9995')\n"
     ]
    }
   ],
   "source": [
    "degrees = [(n[1][\"name\"],n[0]) for n in ontology.nodes(data=True) ]\n",
    "print(degrees[0])"
   ]
  },
  {
   "cell_type": "markdown",
   "metadata": {},
   "source": [
    "## Drawing Graphs\n",
    "\n",
    "NetworkX has some built-in functions for drawing graphs with Matplotlib. In general they don't work very well. Here is a function to do a (hopefully) better drawing of a graph."
   ]
  },
  {
   "cell_type": "code",
   "execution_count": 31,
   "metadata": {
    "collapsed": true
   },
   "outputs": [],
   "source": [
    "def be_copy(g):\n",
    "    return nx.DiGraph([(e[0],e[1]) for e in g.edges()])\n",
    "def drawOBOGraph(graph,feature='name'):\n",
    "\n",
    "    labels = {}\n",
    "    for n in graph.nodes(data=True):\n",
    "        labels[n[0]] = n[1][feature]\n",
    "    nx.draw_networkx_edges(graph,\n",
    "                           pos=nx.nx_pydot.graphviz_layout(\n",
    "                                be_copy(graph),\n",
    "                                prog='dot',\n",
    "                                root=graph.graph['roots'][0]))\n",
    "    nx.draw_networkx_nodes(graph,alpha=0.25,\n",
    "                           pos=nx.nx_pydot.graphviz_layout(\n",
    "                                be_copy(graph),\n",
    "                                prog='dot',\n",
    "                                root=graph.graph['roots'][0]))\n",
    "    nx.draw_networkx_labels(graph,\n",
    "                            pos=nx.nx_pydot.graphviz_layout(\n",
    "                                be_copy(graph),\n",
    "                                prog='dot', font_size=18,\n",
    "                                root=graph.graph['roots'][0]),\n",
    "                            labels=labels)\n",
    "    "
   ]
  },
  {
   "cell_type": "markdown",
   "metadata": {
    "internals": {
     "slide_helper": "subslide_end",
     "slide_type": "subslide"
    },
    "slide_helper": "subslide_end",
    "slideshow": {
     "slide_type": "subslide"
    }
   },
   "source": [
    "## Can we extract useful subgraphs?\n",
    "\n",
    "* Algorithms for optimal paths through graphs is an important topic. Here we use a well-known shortest path algorithm ([Dijkstra Algorithm](https://en.wikipedia.org/wiki/Dijkstra%27s_algorithm)) to find the shortest path from the target to the graph root. We then use the subgraph method to create a graph consisting of the nodes of the shortest path."
   ]
  },
  {
   "cell_type": "code",
   "execution_count": 32,
   "metadata": {
    "collapsed": true,
    "internals": {
     "slide_helper": "subslide_end",
     "slide_type": "subslide"
    },
    "slide_helper": "subslide_end",
    "slideshow": {
     "slide_type": "subslide"
    }
   },
   "outputs": [],
   "source": [
    "def getPathSubGraph(graph,root,target):\n",
    "    path = nx.dijkstra_path(graph,root,target)\n",
    "    subGraph = graph.subgraph(path)\n",
    "    return subGraph\n",
    "    "
   ]
  },
  {
   "cell_type": "code",
   "execution_count": 33,
   "metadata": {
    "collapsed": true,
    "internals": {
     "slide_helper": "subslide_end",
     "slide_type": "subslide"
    },
    "slide_helper": "subslide_end",
    "slideshow": {
     "slide_type": "subslide"
    }
   },
   "outputs": [],
   "source": [
    "def getDescendantGraph(graph,root):\n",
    "    descendantNodes = nx.descendants(graph,root)\n",
    "    descendantGraph = graph.subgraph(descendantNodes)\n",
    "    return descendantGraph"
   ]
  },
  {
   "cell_type": "markdown",
   "metadata": {},
   "source": [
    "### A function to print out the path between two nodes"
   ]
  },
  {
   "cell_type": "code",
   "execution_count": 34,
   "metadata": {
    "collapsed": true,
    "internals": {
     "slide_helper": "subslide_end",
     "slide_type": "subslide"
    },
    "slide_helper": "subslide_end",
    "slideshow": {
     "slide_type": "subslide"
    }
   },
   "outputs": [],
   "source": [
    "def namedTraverse(graph,root, target):\n",
    "    \n",
    "        path = nx.dijkstra_path(graph,root,target)\n",
    "        path.reverse()\n",
    "        tabdepth = \"\"\n",
    "        for p in path[:-1]:\n",
    "            print (tabdepth+\"'%s' which is a\"%graph.node[p]['name'])\n",
    "            tabdepth += \" \"\n",
    "        print (tabdepth+\"'%s'\"%graph.node[path[-1]]['name'])\n",
    "\n"
   ]
  },
  {
   "cell_type": "markdown",
   "metadata": {},
   "source": [
    "### Find Nearest Common Ancestor to Two Nodes"
   ]
  },
  {
   "cell_type": "code",
   "execution_count": 35,
   "metadata": {
    "collapsed": true,
    "internals": {
     "slide_helper": "subslide_end",
     "slide_type": "subslide"
    },
    "slide_helper": "subslide_end",
    "slideshow": {
     "slide_type": "subslide"
    }
   },
   "outputs": [],
   "source": [
    "def findLowestCommonAncestor(graph,node1,node2):\n",
    "    try:\n",
    "        path1 = nx.dijkstra_path(graph,graph.graph['roots'][0],node1)\n",
    "        path2 = nx.dijkstra_path(graph,graph.graph['roots'][0],node2)\n",
    "        if len(path2) < len(path1):\n",
    "            spath= path2\n",
    "            lpath=path1\n",
    "        else:\n",
    "            spath = path1\n",
    "            lpath = path2\n",
    "        lpath.reverse()\n",
    "        for np in lpath:\n",
    "            if np in spath:\n",
    "                return np\n",
    "    except nx.NetworkXNoPath:\n",
    "        return None\n"
   ]
  },
  {
   "cell_type": "code",
   "execution_count": 36,
   "metadata": {
    "internals": {
     "slide_helper": "subslide_end",
     "slide_type": "subslide"
    },
    "slide_helper": "subslide_end",
    "slideshow": {
     "slide_type": "subslide"
    }
   },
   "outputs": [
    {
     "name": "stdout",
     "output_type": "stream",
     "text": [
      "disease\n"
     ]
    }
   ],
   "source": [
    "cnode= findLowestCommonAncestor(ontology,\n",
    "                         hasNodeWithAttribute(ontology,['name','sarcoma']),\n",
    "                         hasNodeWithAttribute(ontology,['name','smallpox']))\n",
    "if cnode:\n",
    "    print (getNodeFeature(ontology,cnode))"
   ]
  },
  {
   "cell_type": "code",
   "execution_count": 37,
   "metadata": {
    "collapsed": true
   },
   "outputs": [],
   "source": [
    "cnode= findLowestCommonAncestor(ontology,\n",
    "                         hasNodeWithAttribute(ontology,['name','aids']),\n",
    "                         hasNodeWithAttribute(ontology,['name','smallpox']))\n",
    "if cnode:\n",
    "    print (getNodeFeature(ontology,cnode))"
   ]
  },
  {
   "cell_type": "code",
   "execution_count": 38,
   "metadata": {
    "collapsed": true,
    "internals": {
     "slide_helper": "subslide_end",
     "slide_type": "subslide"
    },
    "slide_helper": "subslide_end",
    "slideshow": {
     "slide_type": "subslide"
    }
   },
   "outputs": [],
   "source": [
    "def getGraphRoot(graph,root=0):\n",
    "    return graph.graph['roots'][root]"
   ]
  },
  {
   "cell_type": "code",
   "execution_count": 39,
   "metadata": {
    "internals": {
     "slide_helper": "subslide_end",
     "slide_type": "subslide"
    },
    "slide_helper": "subslide_end",
    "slideshow": {
     "slide_type": "subslide"
    }
   },
   "outputs": [
    {
     "name": "stdout",
     "output_type": "stream",
     "text": [
      "'sarcoma' which is a\n",
      " 'cell type cancer' which is a\n",
      "  'cancer' which is a\n",
      "   'disease of cellular proliferation' which is a\n",
      "    'disease'\n"
     ]
    }
   ],
   "source": [
    "namedTraverse(ontology,getGraphRoot(ontology),\n",
    "              hasNodeWithAttribute(ontology,['name','sarcoma']))"
   ]
  },
  {
   "cell_type": "code",
   "execution_count": 44,
   "metadata": {
    "internals": {
     "slide_helper": "subslide_end",
     "slide_type": "subslide"
    },
    "slide_helper": "subslide_end",
    "slideshow": {
     "slide_type": "subslide"
    }
   },
   "outputs": [
    {
     "data": {
      "image/png": "[encoded data removed]",
      "text/plain": [
       "<matplotlib.figure.Figure at 0x7f9c781ea6a0>"
      ]
     },
     "metadata": {},
     "output_type": "display_data"
    }
   ],
   "source": [
    "drawOBOGraph(getPathSubGraph(ontology,ontology.graph['roots'][0],hasNodeWithAttribute(ontology,['name','sarcoma'])))"
   ]
  },
  {
   "cell_type": "markdown",
   "metadata": {},
   "source": [
    "## Challenge: What nodes have the longest shortest path to the graph root (\"disease\")"
   ]
  },
  {
   "cell_type": "code",
   "execution_count": 40,
   "metadata": {},
   "outputs": [
    {
     "data": {
      "text/plain": [
       "{'roots': ['DOID->4']}"
      ]
     },
     "execution_count": 40,
     "metadata": {},
     "output_type": "execute_result"
    }
   ],
   "source": [
    "ontology.graph"
   ]
  },
  {
   "cell_type": "code",
   "execution_count": 45,
   "metadata": {},
   "outputs": [
    {
     "data": {
      "text/plain": [
       "[('ovarian mucinous cystadenocarcinoma', 12),\n",
       " ('solitary osseous plasmacytoma', 12),\n",
       " ('solitary plasmacytoma of chest wall', 12),\n",
       " ('ovarian serous cystadenocarcinoma', 12),\n",
       " ('hypopyon ulcer', 12),\n",
       " ('ovarian clear cell cystadenocarcinoma', 12),\n",
       " ('extramedullary plasmacytoma', 12),\n",
       " ('childhood intracortical osteosarcoma', 11),\n",
       " ('childhood parosteal osteogenic sarcoma', 11),\n",
       " ('enteric pattern testicular yolk sac tumor', 11)]"
      ]
     },
     "execution_count": 45,
     "metadata": {},
     "output_type": "execute_result"
    }
   ],
   "source": [
    "long_short = list(nx.single_source_dijkstra_path_length(ontology, 'DOID->4').items())\n",
    "long_short.sort(key=lambda x:x[1], reverse=True)\n",
    "[(getNodeFeature(ontology,l[0]),l[1]) for l in long_short[:10]]"
   ]
  },
  {
   "cell_type": "markdown",
   "metadata": {
    "internals": {
     "slide_helper": "subslide_end",
     "slide_type": "subslide"
    },
    "slide_helper": "subslide_end",
    "slideshow": {
     "slide_type": "slide"
    }
   },
   "source": [
    "## Can we make better visualizations?"
   ]
  },
  {
   "cell_type": "markdown",
   "metadata": {
    "internals": {
     "slide_helper": "subslide_end",
     "slide_type": "subslide"
    },
    "slide_helper": "subslide_end",
    "slideshow": {
     "slide_type": "subslide"
    }
   },
   "source": [
    "NetworkX can interface with the GraphViz package from AT&T. This is not necessarily easy to install, particularly on Windows. \n"
   ]
  },
  {
   "cell_type": "code",
   "execution_count": 46,
   "metadata": {
    "collapsed": true,
    "internals": {
     "slide_helper": "subslide_end",
     "slide_type": "subslide"
    },
    "slide_helper": "subslide_end",
    "slideshow": {
     "slide_type": "subslide"
    }
   },
   "outputs": [],
   "source": [
    "def getOBO_pydot(graph,feature='name'):\n",
    "    newGraph = nx.DiGraph()\n",
    "    for e in graph.edges():\n",
    "        newGraph.add_edge(graph.node[e[1]][feature],graph.node[e[0]][feature])\n",
    "    ag = nx.nx_pydot.to_pydot(newGraph)\n",
    "    return ag"
   ]
  },
  {
   "cell_type": "code",
   "execution_count": 47,
   "metadata": {
    "internals": {
     "slide_helper": "subslide_end",
     "slide_type": "subslide"
    },
    "slide_helper": "subslide_end",
    "slideshow": {
     "slide_type": "subslide"
    }
   },
   "outputs": [
    {
     "data": {
      "image/png": "[encoded data removed]",
      "text/plain": [
       "<IPython.core.display.Image object>"
      ]
     },
     "execution_count": 47,
     "metadata": {},
     "output_type": "execute_result"
    }
   ],
   "source": [
    "ag = getOBO_pydot(getPathSubGraph(ontology,\n",
    "                                  ontology.graph['roots'][0],\n",
    "                                  'DOID->1115'))\n",
    "\n",
    "ag.write_png(os.path.join(DATADIR,\n",
    "                          \"%s.png\"%getNodeFeature(ontology,\n",
    "                                                  'DOID->1115')))\n",
    "\n",
    "# This is a way of displaying images in an IPython notebook (see import at top)\n",
    "# cannot display PDF files this way\n",
    "Image(filename=(os.path.join(DATADIR,\n",
    "                             \"%s.png\"%getNodeFeature(ontology,\n",
    "                                                     'DOID->1115'))))"
   ]
  },
  {
   "cell_type": "markdown",
   "metadata": {},
   "source": [
    "### How did I generate the illustrative visualization used above?\n",
    "\n",
    "* This makes use of the `nx.compose` function that creates a new graph by merging two existing graphs"
   ]
  },
  {
   "cell_type": "code",
   "execution_count": 67,
   "metadata": {
    "collapsed": true
   },
   "outputs": [],
   "source": [
    "nx.compose_all?"
   ]
  },
  {
   "cell_type": "code",
   "execution_count": 73,
   "metadata": {
    "internals": {
     "slide_helper": "subslide_end",
     "slide_type": "subslide"
    },
    "slide_helper": "subslide_end",
    "slideshow": {
     "slide_type": "subslide"
    }
   },
   "outputs": [
    {
     "name": "stdout",
     "output_type": "stream",
     "text": [
      "DOID->1909\n"
     ]
    },
    {
     "data": {
      "image/png": "[encoded data removed]",
      "text/plain": [
       "<IPython.core.display.Image object>"
      ]
     },
     "execution_count": 73,
     "metadata": {},
     "output_type": "execute_result"
    }
   ],
   "source": [
    "#g1 = getPathSubGraph(ontology, ontology.graph['roots'][0],'DOID->0060080')\n",
    "\n",
    "g1 = getPathSubGraph(ontology, ontology.graph['roots'][0],hasNodeWithAttribute(ontology,['name','appendix carcinoid tumor']))\n",
    "g2 = getPathSubGraph(ontology, ontology.graph['roots'][0],'DOID->5176')\n",
    "g3 = getPathSubGraph(ontology, ontology.graph['roots'][0],hasNodeWithAttribute(ontology,['name','melanoma']))\n",
    "ag = getOBO_pydot(nx.compose_all((g1, g2, g3)))\n",
    "\n",
    "ag.write_png(\"wilms_melanoma_carcinoid.png\")\n",
    "\n",
    "# This is a way of displaying images in an IPython notebook (see import at top)\n",
    "# cannot display PDF files this way\n",
    "print(hasNodeWithAttribute(ontology,['name',\"\"\"melanoma\"\"\"]))\n",
    "\n",
    "Image(filename=\"wilms_melanoma_carcinoid.png\")"
   ]
  },
  {
   "cell_type": "code",
   "execution_count": 66,
   "metadata": {
    "internals": {
     "slide_helper": "subslide_end",
     "slide_type": "subslide"
    },
    "slide_helper": "subslide_end",
    "slideshow": {
     "slide_type": "subslide"
    }
   },
   "outputs": [
    {
     "data": {
      "image/png": "[encoded data removed]",
      "text/plain": [
       "<IPython.core.display.Image object>"
      ]
     },
     "execution_count": 66,
     "metadata": {},
     "output_type": "execute_result"
    }
   ],
   "source": [
    "nid =hasNodeWithAttribute(ontology,['name',\n",
    "                                    \"\"\"fallopian tube adenosarcoma\"\"\"])\n",
    "ag = getOBO_pydot(getPathSubGraph(ontology,getGraphRoot(ontology),nid))\n",
    "ag.write_png(os.path.join(DATADIR,\"temp.png\"))\n",
    "\n",
    "Image(filename=(os.path.join(DATADIR,\"temp.png\")))"
   ]
  },
  {
   "cell_type": "code",
   "execution_count": null,
   "metadata": {
    "collapsed": true
   },
   "outputs": [],
   "source": []
  }
 ],
 "metadata": {
  "kernelspec": {
   "display_name": "Python 3",
   "language": "python",
   "name": "python3"
  },
  "language_info": {
   "codemirror_mode": {
    "name": "ipython",
    "version": 3
   },
   "file_extension": ".py",
   "mimetype": "text/x-python",
   "name": "python",
   "nbconvert_exporter": "python",
   "pygments_lexer": "ipython3",
   "version": "3.5.2"
  }
 },
 "nbformat": 4,
 "nbformat_minor": 1
}
