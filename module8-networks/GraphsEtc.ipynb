{
 "cells": [
  {
   "cell_type": "markdown",
   "metadata": {
    "internals": {
     "slide_helper": "subslide_end",
     "slide_type": "subslide"
    },
    "slide_helper": "slide_end",
    "slideshow": {
     "slide_type": "slide"
    }
   },
   "source": [
    "# Using Graphs to Model Linked Data\n",
    "\n",
    "* [Khan Academy Introduction to Graph Theory](https://www.khanacademy.org/computing/computer-science/algorithms/graph-representation/a/describing-graphs)\n",
    "\n",
    "* [Introduction to Graph Theory with Python](http://www.python-course.eu/graphs_python.php)\n",
    "* [Notes on Graph Theory](https://www.math.utah.edu/mathcircle/notes/MC_Graph_Theory.pdf)"
   ]
  },
  {
   "cell_type": "markdown",
   "metadata": {
    "internals": {
     "slide_helper": "subslide_end",
     "slide_type": "subslide"
    },
    "slide_helper": "subslide_end",
    "slideshow": {
     "slide_type": "slide"
    }
   },
   "source": [
    "# Graphs\n",
    "\n",
    "* Graphs are a data representation consisting of **nodes** and **edges**\n",
    "* Nodes are entities\n",
    "* Edges are relationships\n",
    "* Examples\n",
    "    * Text:\n",
    "        * Nodes are words in sentence (e.g. findings, modifiers, conjuntions)\n",
    "        * Edges are relationships between the words\n",
    "    * Images:\n",
    "        * Nodes are antatomic features (e.g. bifurcations)\n",
    "        * Edges are adjacency.paths between features (e.g. vessels)\n",
    "    * Social Networks\n",
    "        * Nodes are people\n",
    "        * Edges are relationships (e.g. friendship, coauthorship)\n",
    "    * Ontologies\n",
    "    \n",
    "## Python Graph Packages\n",
    "\n",
    "* [NetworkX:](http://networkx.github.io/) this is a very popular, easy to use package. Its advantage and disadvantage is that it is pure Python. Conseqeuntly, easy to use but relatively slow.\n",
    "* [graph-tool:](https://graph-tool.skewed.de/) \"Despite its nice, soft outer appearance of a regular python module, the core algorithms and data structures of graph-tool are written in C++, with performance in mind. Most of the time, you can expect the algorithms to run just as fast as if graph-tool were a pure C/C++ library.\"\n",
    "* [python-igraph:](http://igraph.org/python/) \"igraph is a collection of network analysis tools with the emphasis on efficiency, portability and ease of use. igraph is open source and free. igraph can be programmed in R, Python and C/C++.\""
   ]
  },
  {
   "cell_type": "markdown",
   "metadata": {
    "internals": {
     "slide_helper": "subslide_end",
     "slide_type": "subslide"
    },
    "slide_helper": "subslide_end",
    "slideshow": {
     "slide_type": "subslide"
    }
   },
   "source": [
    "# [NetworkX](http://networkx.github.io/)\n",
    "* Graphs (networkx.Graph())\n",
    "    * Edges (relationships) have no directionality\n",
    "* Directional Graphs (networkx.DiGraph())\n",
    "    * Edges (relationships) have directionality\n",
    "* MultiGraphs (networkx.MultiGraph(), networkx.MultiDiGraph() )\n",
    "    * There can be multiple edges between nodes \n",
    "* Graphs, nodes, and edges can all have attributes (dictionaries)\n",
    "    * Each node has a label\n",
    "    * Each node also has a dictionary (possibly empty) of attributes\n",
    "    * Each edge also has a label (the node labels defining the beginning and ending of the edge) \n",
    "    * Each edge also has a dictionary (possibly empty) of attributes\n",
    "    "
   ]
  },
  {
   "cell_type": "markdown",
   "metadata": {
    "internals": {
     "slide_helper": "subslide_end",
     "slide_type": "subslide"
    },
    "slide_helper": "subslide_end",
    "slideshow": {
     "slide_type": "subslide"
    }
   },
   "source": [
    "## Some NetworkX Notebooks\n",
    "* [From *Learning IPython for Interactive Computing and Data Visualization*](http://nbviewer.ipython.org/github/ipython-books/minibook-code/blob/master/chapter2/203-networkx.ipynb)\n",
    "* [Twitter Data](http://nbviewer.ipython.org/gist/ellisonbg/3837783/TwitterNetworkX.ipynb)\n",
    "* [NetworkX Basics](https://www.wakari.io/sharing/bundle/nvikram/Basics%20of%20Networkx?has_login=False)"
   ]
  },
  {
   "cell_type": "markdown",
   "metadata": {},
   "source": [
    "### Install with conda or pip"
   ]
  },
  {
   "cell_type": "markdown",
   "metadata": {},
   "source": [
    "## Illustrative Notebooks\n",
    "\n",
    "* [Basic undirected Graphs: Knuth Miles](../InClass/KnuthMiles.ipynb)\n",
    "* [Graphs and Ontologies: Disease Ontology](../InClass/GraphsAndOntologies.ipynb)\n",
    "* [Graphs and Social Relations: Pubmed co-authors](../BMIFacultyCollaborations.ipynb)\n"
   ]
  },
  {
   "cell_type": "code",
   "execution_count": null,
   "metadata": {
    "collapsed": true
   },
   "outputs": [],
   "source": []
  }
 ],
 "metadata": {
  "kernelspec": {
   "display_name": "Python 3",
   "language": "python",
   "name": "python3"
  },
  "language_info": {
   "codemirror_mode": {
    "name": "ipython",
    "version": 3
   },
   "file_extension": ".py",
   "mimetype": "text/x-python",
   "name": "python",
   "nbconvert_exporter": "python",
   "pygments_lexer": "ipython3",
   "version": "3.5.2"
  }
 },
 "nbformat": 4,
 "nbformat_minor": 0
}
