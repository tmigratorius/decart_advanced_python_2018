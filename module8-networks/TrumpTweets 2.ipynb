{
 "cells": [
  {
   "cell_type": "markdown",
   "metadata": {},
   "source": [
    "# Sentiment Analysis on Twitter Data\n",
    "\n",
    "This notebook is based on [\"Sentiment analysis on Trump's tweets using Python\"](https://dev.to/rodolfoferro/sentiment-analysis-on-trumpss-tweets-using-python-) by Rodolfo Ferro.\n",
    "\n",
    "Accessed on November 21, 2017"
   ]
  },
  {
   "cell_type": "code",
   "execution_count": 1,
   "metadata": {},
   "outputs": [
    {
     "name": "stdout",
     "output_type": "stream",
     "text": [
      "Fetching package metadata ...............\n",
      "Solving package specifications: .\n",
      "Warning: 2 possible package resolutions (only showing differing packages):\n",
      "  - conda-forge::blinker-1.4-py35_0\n",
      "  - conda-forge::blinker-1.4-py_0\n",
      "\n",
      "Package plan for installation in environment /opt/conda:\n",
      "\n",
      "The following NEW packages will be INSTALLED:\n",
      "\n",
      "    blinker:           1.4-py35_0   conda-forge\n",
      "    oauthlib:          2.0.6-py_0   conda-forge\n",
      "    pyjwt:             1.5.3-py_0   conda-forge\n",
      "    requests-oauthlib: 0.8.0-py35_1 conda-forge\n",
      "    tweepy:            3.5.0-py35_0 conda-forge\n",
      "\n",
      "blinker-1.4-py 100% |################################| Time: 0:00:00 203.76 kB/s\n",
      "pyjwt-1.5.3-py 100% |################################| Time: 0:00:00 166.82 kB/s\n",
      "oauthlib-2.0.6 100% |################################| Time: 0:00:00 284.97 kB/s\n",
      "requests-oauth 100% |################################| Time: 0:00:00 298.81 kB/s\n",
      "tweepy-3.5.0-p 100% |################################| Time: 0:00:00 907.04 kB/s\n"
     ]
    }
   ],
   "source": [
    "!conda install tweepy -y"
   ]
  },
  {
   "cell_type": "code",
   "execution_count": 1,
   "metadata": {
    "collapsed": true
   },
   "outputs": [],
   "source": [
    "# General:\n",
    "import tweepy           # To consume Twitter's API\n",
    "import pandas as pd     # To handle data\n",
    "import numpy as np      # For number computing\n",
    "\n",
    "# For plotting and visualization:\n",
    "from IPython.display import display\n",
    "import matplotlib.pyplot as plt\n",
    "import seaborn as sns\n",
    "%matplotlib inline"
   ]
  },
  {
   "cell_type": "code",
   "execution_count": 2,
   "metadata": {
    "collapsed": true
   },
   "outputs": [],
   "source": [
    "# We import our access keys:\n",
    "from credentials import *    # This will allow us to use the keys as variables\n",
    "\n",
    "# API's setup:\n",
    "def twitter_setup():\n",
    "    \"\"\"\n",
    "    Utility function to setup the Twitter's API\n",
    "    with our access keys provided.\n",
    "    \"\"\"\n",
    "    # Authentication and access using keys:\n",
    "    auth = tweepy.OAuthHandler(CONSUMER_KEY, CONSUMER_SECRET)\n",
    "    auth.set_access_token(ACCESS_TOKEN, ACCESS_SECRET)\n",
    "\n",
    "    # Return API with authentication:\n",
    "    api = tweepy.API(auth)\n",
    "    return api"
   ]
  },
  {
   "cell_type": "code",
   "execution_count": 3,
   "metadata": {},
   "outputs": [
    {
     "name": "stdout",
     "output_type": "stream",
     "text": [
      "Number of tweets extracted: 200.\n",
      "\n",
      "5 recent tweets:\n",
      "\n",
      "I have long given the order to help Argentina with the Search and Rescue mission of their missing submarine. 45 peo… https://t.co/zl3PZApiTt\n",
      "\n",
      "51 Million American to travel this weekend - highest number in twelve years (AAA). Traffic and airports are running very smoothly!  @FoxNews\n",
      "\n",
      "RT @FLOTUS: Preparations are underway to celebrate the holidays at the @WhiteHouse! https://t.co/N5qZ1NP8ez\n",
      "\n",
      "The @USNavy is conducting search and rescue following aircraft crash. We are monitoring the situation. Prayers for… https://t.co/CX0C8dU4h7\n",
      "\n",
      "Will be having meetings and working the phones from the Winter White House in Florida (Mar-a-Lago). Stock Market hi… https://t.co/nfmwwXtyRy\n",
      "\n"
     ]
    }
   ],
   "source": [
    "# We create an extractor object:\n",
    "extractor = twitter_setup()\n",
    "\n",
    "# We create a tweet list as follows:\n",
    "tweets = extractor.user_timeline(screen_name=\"realDonaldTrump\", count=200)\n",
    "print(\"Number of tweets extracted: {}.\\n\".format(len(tweets)))\n",
    "\n",
    "# We print the most recent 5 tweets:\n",
    "print(\"5 recent tweets:\\n\")\n",
    "for tweet in tweets[:5]:\n",
    "    print(tweet.text)\n",
    "    print()"
   ]
  },
  {
   "cell_type": "code",
   "execution_count": 4,
   "metadata": {},
   "outputs": [
    {
     "data": {
      "text/html": [
       "<div>\n",
       "<table border=\"1\" class=\"dataframe\">\n",
       "  <thead>\n",
       "    <tr style=\"text-align: right;\">\n",
       "      <th></th>\n",
       "      <th>Tweets</th>\n",
       "    </tr>\n",
       "  </thead>\n",
       "  <tbody>\n",
       "    <tr>\n",
       "      <th>0</th>\n",
       "      <td>I have long given the order to help Argentina ...</td>\n",
       "    </tr>\n",
       "    <tr>\n",
       "      <th>1</th>\n",
       "      <td>51 Million American to travel this weekend - h...</td>\n",
       "    </tr>\n",
       "    <tr>\n",
       "      <th>2</th>\n",
       "      <td>RT @FLOTUS: Preparations are underway to celeb...</td>\n",
       "    </tr>\n",
       "    <tr>\n",
       "      <th>3</th>\n",
       "      <td>The @USNavy is conducting search and rescue fo...</td>\n",
       "    </tr>\n",
       "    <tr>\n",
       "      <th>4</th>\n",
       "      <td>Will be having meetings and working the phones...</td>\n",
       "    </tr>\n",
       "    <tr>\n",
       "      <th>5</th>\n",
       "      <td>RT @IngrahamAngle: “Far right”? You mean “righ...</td>\n",
       "    </tr>\n",
       "    <tr>\n",
       "      <th>6</th>\n",
       "      <td>RT @Realjmannarino: @realDonaldTrump The ungra...</td>\n",
       "    </tr>\n",
       "    <tr>\n",
       "      <th>7</th>\n",
       "      <td>The NFL is now thinking about a new idea - kee...</td>\n",
       "    </tr>\n",
       "    <tr>\n",
       "      <th>8</th>\n",
       "      <td>...LaVar, you could have spent the next 5 to 1...</td>\n",
       "    </tr>\n",
       "    <tr>\n",
       "      <th>9</th>\n",
       "      <td>It wasn’t the White House, it wasn’t the State...</td>\n",
       "    </tr>\n",
       "  </tbody>\n",
       "</table>\n",
       "</div>"
      ],
      "text/plain": [
       "                                              Tweets\n",
       "0  I have long given the order to help Argentina ...\n",
       "1  51 Million American to travel this weekend - h...\n",
       "2  RT @FLOTUS: Preparations are underway to celeb...\n",
       "3  The @USNavy is conducting search and rescue fo...\n",
       "4  Will be having meetings and working the phones...\n",
       "5  RT @IngrahamAngle: “Far right”? You mean “righ...\n",
       "6  RT @Realjmannarino: @realDonaldTrump The ungra...\n",
       "7  The NFL is now thinking about a new idea - kee...\n",
       "8  ...LaVar, you could have spent the next 5 to 1...\n",
       "9  It wasn’t the White House, it wasn’t the State..."
      ]
     },
     "execution_count": 4,
     "metadata": {},
     "output_type": "execute_result"
    }
   ],
   "source": [
    "# We create a pandas dataframe as follows:\n",
    "data = pd.DataFrame(data=[tweet.text for tweet in tweets], columns=['Tweets'])\n",
    "\n",
    "# We display the first 10 elements of the dataframe:\n",
    "data.head(10)"
   ]
  },
  {
   "cell_type": "code",
   "execution_count": 5,
   "metadata": {},
   "outputs": [
    {
     "name": "stdout",
     "output_type": "stream",
     "text": [
      "933448074348900354\n",
      "2017-11-22 21:32:18\n",
      "Twitter for iPhone\n",
      "48856\n",
      "11522\n",
      "None\n",
      "None\n",
      "{'hashtags': [], 'urls': [{'indices': [117, 140], 'expanded_url': 'https://twitter.com/i/web/status/933448074348900354', 'display_url': 'twitter.com/i/web/status/9…', 'url': 'https://t.co/zl3PZApiTt'}], 'symbols': [], 'user_mentions': []}\n"
     ]
    }
   ],
   "source": [
    "print(tweets[0].id)\n",
    "print(tweets[0].created_at)\n",
    "print(tweets[0].source)\n",
    "print(tweets[0].favorite_count)\n",
    "print(tweets[0].retweet_count)\n",
    "print(tweets[0].geo)\n",
    "print(tweets[0].coordinates)\n",
    "print(tweets[0].entities)"
   ]
  },
  {
   "cell_type": "code",
   "execution_count": 6,
   "metadata": {
    "collapsed": true
   },
   "outputs": [],
   "source": [
    "# We add relevant data:\n",
    "data['len']  = np.array([len(tweet.text) for tweet in tweets])\n",
    "data['ID']   = np.array([tweet.id for tweet in tweets])\n",
    "data['Date'] = np.array([tweet.created_at for tweet in tweets])\n",
    "data['Source'] = np.array([tweet.source for tweet in tweets])\n",
    "data['Likes']  = np.array([tweet.favorite_count for tweet in tweets])\n",
    "data['RTs']    = np.array([tweet.retweet_count for tweet in tweets])"
   ]
  },
  {
   "cell_type": "code",
   "execution_count": 7,
   "metadata": {},
   "outputs": [
    {
     "data": {
      "text/html": [
       "<div>\n",
       "<table border=\"1\" class=\"dataframe\">\n",
       "  <thead>\n",
       "    <tr style=\"text-align: right;\">\n",
       "      <th></th>\n",
       "      <th>Tweets</th>\n",
       "      <th>len</th>\n",
       "      <th>ID</th>\n",
       "      <th>Date</th>\n",
       "      <th>Source</th>\n",
       "      <th>Likes</th>\n",
       "      <th>RTs</th>\n",
       "    </tr>\n",
       "  </thead>\n",
       "  <tbody>\n",
       "    <tr>\n",
       "      <th>0</th>\n",
       "      <td>I have long given the order to help Argentina ...</td>\n",
       "      <td>140</td>\n",
       "      <td>933448074348900354</td>\n",
       "      <td>2017-11-22 21:32:18</td>\n",
       "      <td>Twitter for iPhone</td>\n",
       "      <td>48856</td>\n",
       "      <td>11522</td>\n",
       "    </tr>\n",
       "    <tr>\n",
       "      <th>1</th>\n",
       "      <td>51 Million American to travel this weekend - h...</td>\n",
       "      <td>140</td>\n",
       "      <td>933446283632824321</td>\n",
       "      <td>2017-11-22 21:25:11</td>\n",
       "      <td>Twitter for iPhone</td>\n",
       "      <td>27508</td>\n",
       "      <td>5004</td>\n",
       "    </tr>\n",
       "    <tr>\n",
       "      <th>2</th>\n",
       "      <td>RT @FLOTUS: Preparations are underway to celeb...</td>\n",
       "      <td>107</td>\n",
       "      <td>933443640881569792</td>\n",
       "      <td>2017-11-22 21:14:41</td>\n",
       "      <td>Twitter for iPhone</td>\n",
       "      <td>0</td>\n",
       "      <td>6658</td>\n",
       "    </tr>\n",
       "    <tr>\n",
       "      <th>3</th>\n",
       "      <td>The @USNavy is conducting search and rescue fo...</td>\n",
       "      <td>139</td>\n",
       "      <td>933319309551685633</td>\n",
       "      <td>2017-11-22 13:00:38</td>\n",
       "      <td>Twitter for iPhone</td>\n",
       "      <td>38589</td>\n",
       "      <td>8996</td>\n",
       "    </tr>\n",
       "    <tr>\n",
       "      <th>4</th>\n",
       "      <td>Will be having meetings and working the phones...</td>\n",
       "      <td>140</td>\n",
       "      <td>933301876975718401</td>\n",
       "      <td>2017-11-22 11:51:22</td>\n",
       "      <td>Twitter for iPhone</td>\n",
       "      <td>61075</td>\n",
       "      <td>12818</td>\n",
       "    </tr>\n",
       "    <tr>\n",
       "      <th>5</th>\n",
       "      <td>RT @IngrahamAngle: “Far right”? You mean “righ...</td>\n",
       "      <td>140</td>\n",
       "      <td>933292289211772929</td>\n",
       "      <td>2017-11-22 11:13:16</td>\n",
       "      <td>Twitter for iPhone</td>\n",
       "      <td>0</td>\n",
       "      <td>7727</td>\n",
       "    </tr>\n",
       "    <tr>\n",
       "      <th>6</th>\n",
       "      <td>RT @Realjmannarino: @realDonaldTrump The ungra...</td>\n",
       "      <td>140</td>\n",
       "      <td>933291745722351617</td>\n",
       "      <td>2017-11-22 11:11:06</td>\n",
       "      <td>Twitter for iPhone</td>\n",
       "      <td>0</td>\n",
       "      <td>6871</td>\n",
       "    </tr>\n",
       "    <tr>\n",
       "      <th>7</th>\n",
       "      <td>The NFL is now thinking about a new idea - kee...</td>\n",
       "      <td>140</td>\n",
       "      <td>933285973277868032</td>\n",
       "      <td>2017-11-22 10:48:10</td>\n",
       "      <td>Twitter for iPhone</td>\n",
       "      <td>90898</td>\n",
       "      <td>19930</td>\n",
       "    </tr>\n",
       "    <tr>\n",
       "      <th>8</th>\n",
       "      <td>...LaVar, you could have spent the next 5 to 1...</td>\n",
       "      <td>140</td>\n",
       "      <td>933282274937733126</td>\n",
       "      <td>2017-11-22 10:33:28</td>\n",
       "      <td>Twitter for iPhone</td>\n",
       "      <td>125745</td>\n",
       "      <td>31979</td>\n",
       "    </tr>\n",
       "    <tr>\n",
       "      <th>9</th>\n",
       "      <td>It wasn’t the White House, it wasn’t the State...</td>\n",
       "      <td>139</td>\n",
       "      <td>933280234220134401</td>\n",
       "      <td>2017-11-22 10:25:22</td>\n",
       "      <td>Twitter for iPhone</td>\n",
       "      <td>104348</td>\n",
       "      <td>28580</td>\n",
       "    </tr>\n",
       "  </tbody>\n",
       "</table>\n",
       "</div>"
      ],
      "text/plain": [
       "                                              Tweets  len                  ID  \\\n",
       "0  I have long given the order to help Argentina ...  140  933448074348900354   \n",
       "1  51 Million American to travel this weekend - h...  140  933446283632824321   \n",
       "2  RT @FLOTUS: Preparations are underway to celeb...  107  933443640881569792   \n",
       "3  The @USNavy is conducting search and rescue fo...  139  933319309551685633   \n",
       "4  Will be having meetings and working the phones...  140  933301876975718401   \n",
       "5  RT @IngrahamAngle: “Far right”? You mean “righ...  140  933292289211772929   \n",
       "6  RT @Realjmannarino: @realDonaldTrump The ungra...  140  933291745722351617   \n",
       "7  The NFL is now thinking about a new idea - kee...  140  933285973277868032   \n",
       "8  ...LaVar, you could have spent the next 5 to 1...  140  933282274937733126   \n",
       "9  It wasn’t the White House, it wasn’t the State...  139  933280234220134401   \n",
       "\n",
       "                 Date              Source   Likes    RTs  \n",
       "0 2017-11-22 21:32:18  Twitter for iPhone   48856  11522  \n",
       "1 2017-11-22 21:25:11  Twitter for iPhone   27508   5004  \n",
       "2 2017-11-22 21:14:41  Twitter for iPhone       0   6658  \n",
       "3 2017-11-22 13:00:38  Twitter for iPhone   38589   8996  \n",
       "4 2017-11-22 11:51:22  Twitter for iPhone   61075  12818  \n",
       "5 2017-11-22 11:13:16  Twitter for iPhone       0   7727  \n",
       "6 2017-11-22 11:11:06  Twitter for iPhone       0   6871  \n",
       "7 2017-11-22 10:48:10  Twitter for iPhone   90898  19930  \n",
       "8 2017-11-22 10:33:28  Twitter for iPhone  125745  31979  \n",
       "9 2017-11-22 10:25:22  Twitter for iPhone  104348  28580  "
      ]
     },
     "execution_count": 7,
     "metadata": {},
     "output_type": "execute_result"
    }
   ],
   "source": [
    "data.head(10)"
   ]
  },
  {
   "cell_type": "code",
   "execution_count": 8,
   "metadata": {},
   "outputs": [
    {
     "name": "stdout",
     "output_type": "stream",
     "text": [
      "The lenght's average in tweets: 125.815\n"
     ]
    }
   ],
   "source": [
    "mean = np.mean(data['len'])\n",
    "\n",
    "print(\"The lenght's average in tweets: {}\".format(mean))"
   ]
  },
  {
   "cell_type": "code",
   "execution_count": 9,
   "metadata": {},
   "outputs": [
    {
     "name": "stdout",
     "output_type": "stream",
     "text": [
      "The tweet with more likes is: \n",
      "Why would Kim Jong-un insult me by calling me \"old,\" when I would NEVER call him \"short and fat?\" Oh well, I try so… https://t.co/PmsWNkH4r4\n",
      "Number of likes: 612628\n",
      "140 characters.\n",
      "\n",
      "The tweet with more retweets is: \n",
      "Why would Kim Jong-un insult me by calling me \"old,\" when I would NEVER call him \"short and fat?\" Oh well, I try so… https://t.co/PmsWNkH4r4\n",
      "Number of retweets: 271956\n",
      "140 characters.\n",
      "\n"
     ]
    }
   ],
   "source": [
    "# We extract the tweet with more FAVs and more RTs:\n",
    "\n",
    "fav_max = np.max(data['Likes'])\n",
    "rt_max  = np.max(data['RTs'])\n",
    "\n",
    "fav = data[data.Likes == fav_max].index[0]\n",
    "rt  = data[data.RTs == rt_max].index[0]\n",
    "\n",
    "# Max FAVs:\n",
    "print(\"The tweet with more likes is: \\n{}\".format(data['Tweets'][fav]))\n",
    "print(\"Number of likes: {}\".format(fav_max))\n",
    "print(\"{} characters.\\n\".format(data['len'][fav]))\n",
    "\n",
    "# Max RTs:\n",
    "print(\"The tweet with more retweets is: \\n{}\".format(data['Tweets'][rt]))\n",
    "print(\"Number of retweets: {}\".format(rt_max))\n",
    "print(\"{} characters.\\n\".format(data['len'][rt]))"
   ]
  },
  {
   "cell_type": "code",
   "execution_count": 10,
   "metadata": {
    "collapsed": true
   },
   "outputs": [],
   "source": [
    "# We create time series for data:\n",
    "\n",
    "tlen = pd.Series(data=data['len'].values, index=data['Date'])\n",
    "tfav = pd.Series(data=data['Likes'].values, index=data['Date'])\n",
    "tret = pd.Series(data=data['RTs'].values, index=data['Date'])"
   ]
  },
  {
   "cell_type": "code",
   "execution_count": 11,
   "metadata": {},
   "outputs": [
    {
     "data": {
      "image/png": "[encoded data removed]",
      "text/plain": [
       "<matplotlib.figure.Figure at 0x7ff7364f7b38>"
      ]
     },
     "metadata": {},
     "output_type": "display_data"
    }
   ],
   "source": [
    "tlen.plot(figsize=(16,4), color='r');"
   ]
  },
  {
   "cell_type": "code",
   "execution_count": 12,
   "metadata": {},
   "outputs": [
    {
     "data": {
      "image/png": "[encoded data removed]",
      "text/plain": [
       "<matplotlib.figure.Figure at 0x7ff735831898>"
      ]
     },
     "metadata": {},
     "output_type": "display_data"
    }
   ],
   "source": [
    "# Likes vs retweets visualization:\n",
    "tfav.plot(figsize=(16,4), label=\"Likes\", legend=True)\n",
    "tret.plot(figsize=(16,4), label=\"Retweets\", legend=True);"
   ]
  },
  {
   "cell_type": "code",
   "execution_count": 13,
   "metadata": {},
   "outputs": [
    {
     "name": "stdout",
     "output_type": "stream",
     "text": [
      "Creation of content sources:\n",
      "* Twitter for iPhone\n",
      "* Twitter Web Client\n",
      "* Media Studio\n",
      "* Twitter for iPad\n"
     ]
    }
   ],
   "source": [
    "# We obtain all possible sources:\n",
    "sources = []\n",
    "for source in data['Source']:\n",
    "    if source not in sources:\n",
    "        sources.append(source)\n",
    "\n",
    "# We print sources list:\n",
    "print(\"Creation of content sources:\")\n",
    "for source in sources:\n",
    "    print(\"* {}\".format(source))"
   ]
  },
  {
   "cell_type": "code",
   "execution_count": 14,
   "metadata": {},
   "outputs": [
    {
     "data": {
      "image/png": "[encoded data removed]",
      "text/plain": [
       "<matplotlib.figure.Figure at 0x7ff731f57d68>"
      ]
     },
     "metadata": {},
     "output_type": "display_data"
    }
   ],
   "source": [
    "# We create a numpy vector mapped to labels:\n",
    "percent = np.zeros(len(sources))\n",
    "\n",
    "for source in data['Source']:\n",
    "    for index in range(len(sources)):\n",
    "        if source == sources[index]:\n",
    "            percent[index] += 1\n",
    "            pass\n",
    "\n",
    "percent /= 100\n",
    "\n",
    "# Pie chart:\n",
    "pie_chart = pd.Series(percent, index=sources, name='Sources')\n",
    "pie_chart.plot.pie(fontsize=11, autopct='%.2f', figsize=(6, 6));"
   ]
  },
  {
   "cell_type": "code",
   "execution_count": 15,
   "metadata": {
    "collapsed": true
   },
   "outputs": [],
   "source": [
    "from textblob import TextBlob\n",
    "import re\n",
    "\n",
    "def clean_tweet(tweet):\n",
    "    '''\n",
    "    Utility function to clean the text in a tweet by removing \n",
    "    links and special characters using regex.\n",
    "    '''\n",
    "    return ' '.join(re.sub(\"(@[A-Za-z0-9]+)|([^0-9A-Za-z \\t])|(\\w+:\\/\\/\\S+)\", \" \", tweet).split())\n",
    "\n",
    "def analize_sentiment(tweet):\n",
    "    '''\n",
    "    Utility function to classify the polarity of a tweet\n",
    "    using textblob.\n",
    "    '''\n",
    "    analysis = TextBlob(clean_tweet(tweet))\n",
    "    if analysis.sentiment.polarity > 0:\n",
    "        return 1\n",
    "    elif analysis.sentiment.polarity == 0:\n",
    "        return 0\n",
    "    else:\n",
    "        return -1"
   ]
  },
  {
   "cell_type": "code",
   "execution_count": 16,
   "metadata": {},
   "outputs": [
    {
     "data": {
      "text/html": [
       "<div>\n",
       "<table border=\"1\" class=\"dataframe\">\n",
       "  <thead>\n",
       "    <tr style=\"text-align: right;\">\n",
       "      <th></th>\n",
       "      <th>Tweets</th>\n",
       "      <th>len</th>\n",
       "      <th>ID</th>\n",
       "      <th>Date</th>\n",
       "      <th>Source</th>\n",
       "      <th>Likes</th>\n",
       "      <th>RTs</th>\n",
       "      <th>SA</th>\n",
       "    </tr>\n",
       "  </thead>\n",
       "  <tbody>\n",
       "    <tr>\n",
       "      <th>0</th>\n",
       "      <td>I have long given the order to help Argentina ...</td>\n",
       "      <td>140</td>\n",
       "      <td>933448074348900354</td>\n",
       "      <td>2017-11-22 21:32:18</td>\n",
       "      <td>Twitter for iPhone</td>\n",
       "      <td>48856</td>\n",
       "      <td>11522</td>\n",
       "      <td>-1</td>\n",
       "    </tr>\n",
       "    <tr>\n",
       "      <th>1</th>\n",
       "      <td>51 Million American to travel this weekend - h...</td>\n",
       "      <td>140</td>\n",
       "      <td>933446283632824321</td>\n",
       "      <td>2017-11-22 21:25:11</td>\n",
       "      <td>Twitter for iPhone</td>\n",
       "      <td>27508</td>\n",
       "      <td>5004</td>\n",
       "      <td>1</td>\n",
       "    </tr>\n",
       "    <tr>\n",
       "      <th>2</th>\n",
       "      <td>RT @FLOTUS: Preparations are underway to celeb...</td>\n",
       "      <td>107</td>\n",
       "      <td>933443640881569792</td>\n",
       "      <td>2017-11-22 21:14:41</td>\n",
       "      <td>Twitter for iPhone</td>\n",
       "      <td>0</td>\n",
       "      <td>6658</td>\n",
       "      <td>0</td>\n",
       "    </tr>\n",
       "    <tr>\n",
       "      <th>3</th>\n",
       "      <td>The @USNavy is conducting search and rescue fo...</td>\n",
       "      <td>139</td>\n",
       "      <td>933319309551685633</td>\n",
       "      <td>2017-11-22 13:00:38</td>\n",
       "      <td>Twitter for iPhone</td>\n",
       "      <td>38589</td>\n",
       "      <td>8996</td>\n",
       "      <td>0</td>\n",
       "    </tr>\n",
       "    <tr>\n",
       "      <th>4</th>\n",
       "      <td>Will be having meetings and working the phones...</td>\n",
       "      <td>140</td>\n",
       "      <td>933301876975718401</td>\n",
       "      <td>2017-11-22 11:51:22</td>\n",
       "      <td>Twitter for iPhone</td>\n",
       "      <td>61075</td>\n",
       "      <td>12818</td>\n",
       "      <td>0</td>\n",
       "    </tr>\n",
       "    <tr>\n",
       "      <th>5</th>\n",
       "      <td>RT @IngrahamAngle: “Far right”? You mean “righ...</td>\n",
       "      <td>140</td>\n",
       "      <td>933292289211772929</td>\n",
       "      <td>2017-11-22 11:13:16</td>\n",
       "      <td>Twitter for iPhone</td>\n",
       "      <td>0</td>\n",
       "      <td>7727</td>\n",
       "      <td>1</td>\n",
       "    </tr>\n",
       "    <tr>\n",
       "      <th>6</th>\n",
       "      <td>RT @Realjmannarino: @realDonaldTrump The ungra...</td>\n",
       "      <td>140</td>\n",
       "      <td>933291745722351617</td>\n",
       "      <td>2017-11-22 11:11:06</td>\n",
       "      <td>Twitter for iPhone</td>\n",
       "      <td>0</td>\n",
       "      <td>6871</td>\n",
       "      <td>0</td>\n",
       "    </tr>\n",
       "    <tr>\n",
       "      <th>7</th>\n",
       "      <td>The NFL is now thinking about a new idea - kee...</td>\n",
       "      <td>140</td>\n",
       "      <td>933285973277868032</td>\n",
       "      <td>2017-11-22 10:48:10</td>\n",
       "      <td>Twitter for iPhone</td>\n",
       "      <td>90898</td>\n",
       "      <td>19930</td>\n",
       "      <td>1</td>\n",
       "    </tr>\n",
       "    <tr>\n",
       "      <th>8</th>\n",
       "      <td>...LaVar, you could have spent the next 5 to 1...</td>\n",
       "      <td>140</td>\n",
       "      <td>933282274937733126</td>\n",
       "      <td>2017-11-22 10:33:28</td>\n",
       "      <td>Twitter for iPhone</td>\n",
       "      <td>125745</td>\n",
       "      <td>31979</td>\n",
       "      <td>-1</td>\n",
       "    </tr>\n",
       "    <tr>\n",
       "      <th>9</th>\n",
       "      <td>It wasn’t the White House, it wasn’t the State...</td>\n",
       "      <td>139</td>\n",
       "      <td>933280234220134401</td>\n",
       "      <td>2017-11-22 10:25:22</td>\n",
       "      <td>Twitter for iPhone</td>\n",
       "      <td>104348</td>\n",
       "      <td>28580</td>\n",
       "      <td>0</td>\n",
       "    </tr>\n",
       "  </tbody>\n",
       "</table>\n",
       "</div>"
      ],
      "text/plain": [
       "                                              Tweets  len                  ID  \\\n",
       "0  I have long given the order to help Argentina ...  140  933448074348900354   \n",
       "1  51 Million American to travel this weekend - h...  140  933446283632824321   \n",
       "2  RT @FLOTUS: Preparations are underway to celeb...  107  933443640881569792   \n",
       "3  The @USNavy is conducting search and rescue fo...  139  933319309551685633   \n",
       "4  Will be having meetings and working the phones...  140  933301876975718401   \n",
       "5  RT @IngrahamAngle: “Far right”? You mean “righ...  140  933292289211772929   \n",
       "6  RT @Realjmannarino: @realDonaldTrump The ungra...  140  933291745722351617   \n",
       "7  The NFL is now thinking about a new idea - kee...  140  933285973277868032   \n",
       "8  ...LaVar, you could have spent the next 5 to 1...  140  933282274937733126   \n",
       "9  It wasn’t the White House, it wasn’t the State...  139  933280234220134401   \n",
       "\n",
       "                 Date              Source   Likes    RTs  SA  \n",
       "0 2017-11-22 21:32:18  Twitter for iPhone   48856  11522  -1  \n",
       "1 2017-11-22 21:25:11  Twitter for iPhone   27508   5004   1  \n",
       "2 2017-11-22 21:14:41  Twitter for iPhone       0   6658   0  \n",
       "3 2017-11-22 13:00:38  Twitter for iPhone   38589   8996   0  \n",
       "4 2017-11-22 11:51:22  Twitter for iPhone   61075  12818   0  \n",
       "5 2017-11-22 11:13:16  Twitter for iPhone       0   7727   1  \n",
       "6 2017-11-22 11:11:06  Twitter for iPhone       0   6871   0  \n",
       "7 2017-11-22 10:48:10  Twitter for iPhone   90898  19930   1  \n",
       "8 2017-11-22 10:33:28  Twitter for iPhone  125745  31979  -1  \n",
       "9 2017-11-22 10:25:22  Twitter for iPhone  104348  28580   0  "
      ]
     },
     "execution_count": 16,
     "metadata": {},
     "output_type": "execute_result"
    }
   ],
   "source": [
    "# We create a column with the result of the analysis:\n",
    "data['SA'] = np.array([ analize_sentiment(tweet) for tweet in data['Tweets'] ])\n",
    "\n",
    "# We display the updated dataframe with the new column:\n",
    "data.head(10)"
   ]
  },
  {
   "cell_type": "code",
   "execution_count": 17,
   "metadata": {
    "collapsed": true
   },
   "outputs": [],
   "source": [
    "# We construct lists with classified tweets:\n",
    "\n",
    "pos_tweets = [ tweet for index, tweet in enumerate(data['Tweets']) if data['SA'][index] > 0]\n",
    "neu_tweets = [ tweet for index, tweet in enumerate(data['Tweets']) if data['SA'][index] == 0]\n",
    "neg_tweets = [ tweet for index, tweet in enumerate(data['Tweets']) if data['SA'][index] < 0]"
   ]
  },
  {
   "cell_type": "code",
   "execution_count": 18,
   "metadata": {},
   "outputs": [
    {
     "name": "stdout",
     "output_type": "stream",
     "text": [
      "Percentage of positive tweets: 51.0%\n",
      "Percentage of neutral tweets: 23.0%\n",
      "Percentage of negative tweets: 26.0%\n"
     ]
    }
   ],
   "source": [
    "# We print percentages:\n",
    "\n",
    "print(\"Percentage of positive tweets: {}%\".format(len(pos_tweets)*100/len(data['Tweets'])))\n",
    "print(\"Percentage of neutral tweets: {}%\".format(len(neu_tweets)*100/len(data['Tweets'])))\n",
    "print(\"Percentage of negative tweets: {}%\".format(len(neg_tweets)*100/len(data['Tweets'])))"
   ]
  },
  {
   "cell_type": "code",
   "execution_count": null,
   "metadata": {
    "collapsed": true
   },
   "outputs": [],
   "source": []
  }
 ],
 "metadata": {
  "kernelspec": {
   "display_name": "Python 3",
   "language": "python",
   "name": "python3"
  },
  "language_info": {
   "codemirror_mode": {
    "name": "ipython",
    "version": 3
   },
   "file_extension": ".py",
   "mimetype": "text/x-python",
   "name": "python",
   "nbconvert_exporter": "python",
   "pygments_lexer": "ipython3",
   "version": "3.5.2"
  }
 },
 "nbformat": 4,
 "nbformat_minor": 2
}
