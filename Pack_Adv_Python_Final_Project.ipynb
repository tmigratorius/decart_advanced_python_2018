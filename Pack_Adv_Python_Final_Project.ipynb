{
 "cells": [
  {
   "cell_type": "markdown",
   "metadata": {},
   "source": [
    "## Integrated Development Environments, Profiling, Debugging and Testing Practice\n",
    "1. Using Spyder\n",
    "    fixing, testing and improving code is easier in an IDE\n",
    "2. Debugging \n",
    "3. Pythonizing\n",
    "4. Profiling\n"
   ]
  },
  {
   "cell_type": "code",
   "execution_count": null,
   "metadata": {},
   "outputs": [],
   "source": []
  },
  {
   "cell_type": "code",
   "execution_count": null,
   "metadata": {},
   "outputs": [],
   "source": [
    "Pylint"
   ]
  },
  {
   "cell_type": "code",
   "execution_count": null,
   "metadata": {},
   "outputs": [],
   "source": [
    "Pytest"
   ]
  },
  {
   "cell_type": "code",
   "execution_count": null,
   "metadata": {},
   "outputs": [],
   "source": [
    "Spyder "
   ]
  },
  {
   "cell_type": "code",
   "execution_count": null,
   "metadata": {},
   "outputs": [],
   "source": [
    "ipdb"
   ]
  },
  {
   "cell_type": "markdown",
   "metadata": {},
   "source": [
    "## daily class summaries"
   ]
  },
  {
   "cell_type": "markdown",
   "metadata": {},
   "source": [
    "#### day 1\n",
    "Topics Covered:\n",
    "1. Vectors\n",
    "2. Matricies\n",
    "3. installing and working with the myla package\n",
    "\n",
    "#### day 2\n"
   ]
  },
  {
   "cell_type": "code",
   "execution_count": null,
   "metadata": {},
   "outputs": [],
   "source": [
    "1vectors, matricies stuff by hand myla\n",
    "2numpy stuff automatic\n",
    "3gaussian?\n",
    "4gaussian elimination/ortho/eigen\n",
    "5debugging/testing/profiling\n"
   ]
  },
  {
   "cell_type": "code",
   "execution_count": null,
   "metadata": {},
   "outputs": [],
   "source": []
  },
  {
   "cell_type": "code",
   "execution_count": null,
   "metadata": {},
   "outputs": [],
   "source": []
  },
  {
   "cell_type": "code",
   "execution_count": null,
   "metadata": {},
   "outputs": [],
   "source": []
  },
  {
   "cell_type": "markdown",
   "metadata": {},
   "source": [
    "### Lunchtime Talk Summary\n",
    "#### Speaker: Danielle Mowery PhD MS MS\n",
    "#### Title: How Clinical NLP can Support Stroke Research\n",
    "\n",
    "- bioinformaticists/data scientists in clinical research often have to learn and become familiar with many clinical domains\n",
    "\n",
    "Strokes are one of the leading causes of death\n",
    "\n",
    "Population health research: patterns/interventions/outcomes\n",
    "\n",
    "    - Genetics research\n",
    "    - Observational studies\n",
    "    - Effectiveness studies/trials\n",
    "    - Health policy\n",
    "    \n",
    "- Id patients that may be at risk, support prevention research\n",
    "\t- 3 use cases\n",
    "\t- 1st study: Identifying predisposing genes for stroke within utah pedigrees\n",
    "\t\tRisk assessment\n",
    "\t\t\tExtensive utah Pedigree\n",
    "\t\t\tLink to EHR\n",
    "\t\t\tDevelop stroke phenotype framework\n",
    "\t\t\tInformation taken from neurocritical care database\n",
    "\t\t\tTrained system with 3 types of pts/cross checked with experts\n",
    "\t\t\t\tIschemic\n",
    "\t\t\t\tHemorrhagic\n",
    "\t\t\t\tOther disorder\n",
    "\t\t\tGenerated list of n-grams correlated w/ stroke -different lists\n",
    "\t\t\t\tUsed top 1%\n",
    "                Used regex to match up word synonyms\n",
    "                List of negation terms to add context\n",
    "                Patient classification: n-grams, umls, ConText\n",
    "                Additional information resulted in better prediction\n",
    "\t\t\tFuture work in more finely discerning subtypes\n",
    "\t\t\t\n",
    "\t- 2nd study: supporting stroke comparative effectiveness research for US veterans\n",
    "        Personalized treatment\n",
    "        Comparing treatment efficacy stenting vs endartectomy\n",
    "        NLP classifier that finds negative vs positive results\n",
    "        Data from US veteran database\n",
    "        Again, more data was more predictive. Full report had best value\n",
    "\t\n",
    "\t\n",
    "    - 3rd case: High value patient care\n",
    "\tChoosing wisely foundation-indicates which tests are useful and valuable depending on patient characteristics\n",
    "\t\t\tpersonalized treatment plans\n",
    "            Preventative strategies for risky individuals\n",
    "            Reducing low value tests\n",
    "\t\t\tClassified reasons for ordering carotid imaging before and after policy recommendation relase (2007-12) and (2013-2015)\n",
    "\t\t\t\tNo sig diff between pre and post policies\n",
    "\t\t\t\tPolicy did not affect providers choices :(\n",
    "\t\t\tPossible CDS opportunities w/choosing wisely in EHR at point of care, hope to improve value of care and reduce costs.\n",
    "\n",
    "\t\tConclusions\n",
    "\t\tNLP useful for identifying populations for study\n",
    "\t\tCan help providers determine and apply best practices\n",
    "\t\tCan help determine which therapies more effective\n",
    "\t\t\t\n",
    "\t\t\t\n",
    "\n",
    "Much of the important information is in clinical notes or free text-extract it or chart review\n",
    "\n",
    "How NLP works:\n",
    "\tStructures and extracts information from clinical text\n",
    "\tClassify patients\n",
    "Lots of challenges in clinical notes\n",
    "\tSynonym, abbrv, acronym, misspelling, concat, quantification, negation, historical, hypotheticals, family history\n",
    "\tContext matters\n"
   ]
  },
  {
   "cell_type": "code",
   "execution_count": null,
   "metadata": {},
   "outputs": [],
   "source": []
  }
 ],
 "metadata": {
  "kernelspec": {
   "display_name": "Python 3",
   "language": "python",
   "name": "python3"
  },
  "language_info": {
   "codemirror_mode": {
    "name": "ipython",
    "version": 3
   },
   "file_extension": ".py",
   "mimetype": "text/x-python",
   "name": "python",
   "nbconvert_exporter": "python",
   "pygments_lexer": "ipython3",
   "version": "3.5.5"
  }
 },
 "nbformat": 4,
 "nbformat_minor": 2
}
